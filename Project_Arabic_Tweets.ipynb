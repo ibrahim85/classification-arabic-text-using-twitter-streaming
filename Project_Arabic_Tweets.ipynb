{
 "cells": [
  {
   "cell_type": "markdown",
   "metadata": {},
   "source": [
    "<center ><h1>Import Of Extracted Data</h1> </center>\n"
   ]
  },
  {
   "cell_type": "code",
   "execution_count": 1,
   "metadata": {},
   "outputs": [
    {
     "data": {
      "text/html": [
       "<div>\n",
       "<style scoped>\n",
       "    .dataframe tbody tr th:only-of-type {\n",
       "        vertical-align: middle;\n",
       "    }\n",
       "\n",
       "    .dataframe tbody tr th {\n",
       "        vertical-align: top;\n",
       "    }\n",
       "\n",
       "    .dataframe thead th {\n",
       "        text-align: right;\n",
       "    }\n",
       "</style>\n",
       "<table border=\"1\" class=\"dataframe\">\n",
       "  <thead>\n",
       "    <tr style=\"text-align: right;\">\n",
       "      <th></th>\n",
       "      <th>text</th>\n",
       "      <th>Username</th>\n",
       "      <th>location</th>\n",
       "      <th>Timestamp</th>\n",
       "      <th>followers</th>\n",
       "      <th>label</th>\n",
       "      <th>categorie</th>\n",
       "    </tr>\n",
       "  </thead>\n",
       "  <tbody>\n",
       "    <tr>\n",
       "      <th>0</th>\n",
       "      <td>RT @ahmedkotb127: نشترى\\nالاثاث\\nالمستعمل\\nبال...</td>\n",
       "      <td>Hamza__5555</td>\n",
       "      <td>NaN</td>\n",
       "      <td>Tue Oct 13 03:08:21 +0000 2020</td>\n",
       "      <td>1028</td>\n",
       "      <td>4</td>\n",
       "      <td>economy</td>\n",
       "    </tr>\n",
       "    <tr>\n",
       "      <th>1</th>\n",
       "      <td>@ateez1023 مب صاحينن المسرح بيت ابوهم حرفيا 😭😭</td>\n",
       "      <td>Yambam2001</td>\n",
       "      <td>NaN</td>\n",
       "      <td>Sat Oct 10 22:25:00 +0000 2020</td>\n",
       "      <td>22</td>\n",
       "      <td>3</td>\n",
       "      <td>art</td>\n",
       "    </tr>\n",
       "    <tr>\n",
       "      <th>2</th>\n",
       "      <td>RT @bnouf13: بصرف النظر عن الخصومة السياسية بي...</td>\n",
       "      <td>tough1girl</td>\n",
       "      <td>Tabuk</td>\n",
       "      <td>Thu Oct 08 20:45:08 +0000 2020</td>\n",
       "      <td>299</td>\n",
       "      <td>1</td>\n",
       "      <td>politic</td>\n",
       "    </tr>\n",
       "    <tr>\n",
       "      <th>3</th>\n",
       "      <td>@DrAlghamdiMH الحقيقه هناك اسراف في المياه سوا...</td>\n",
       "      <td>faisal80792720</td>\n",
       "      <td>saudia</td>\n",
       "      <td>Tue Oct 13 03:03:02 +0000 2020</td>\n",
       "      <td>3162</td>\n",
       "      <td>4</td>\n",
       "      <td>economy</td>\n",
       "    </tr>\n",
       "    <tr>\n",
       "      <th>4</th>\n",
       "      <td>RT @F0cL12BUsxMp7iq: الله يخربيت الكوره ع الفي...</td>\n",
       "      <td>_amanymohamed74</td>\n",
       "      <td>Aswan</td>\n",
       "      <td>Fri Oct 09 20:47:37 +0000 2020</td>\n",
       "      <td>238</td>\n",
       "      <td>0</td>\n",
       "      <td>sport</td>\n",
       "    </tr>\n",
       "    <tr>\n",
       "      <th>...</th>\n",
       "      <td>...</td>\n",
       "      <td>...</td>\n",
       "      <td>...</td>\n",
       "      <td>...</td>\n",
       "      <td>...</td>\n",
       "      <td>...</td>\n",
       "      <td>...</td>\n",
       "    </tr>\n",
       "    <tr>\n",
       "      <th>37030</th>\n",
       "      <td>ماشفنا للحين شي 💔💔💔💔\\nمر على هالخبر تقريبا سنه...</td>\n",
       "      <td>zezo321f</td>\n",
       "      <td>الطائف, المملكة العربية السعودية</td>\n",
       "      <td>Sat Oct 10 19:10:12 +0000 2020</td>\n",
       "      <td>160</td>\n",
       "      <td>3</td>\n",
       "      <td>art</td>\n",
       "    </tr>\n",
       "    <tr>\n",
       "      <th>37031</th>\n",
       "      <td>RT @Shuoon_Royal: لجلالة السلطان هيثم بن طارق ...</td>\n",
       "      <td>Ask84728300</td>\n",
       "      <td>Muscat, Oman</td>\n",
       "      <td>Sat Oct 10 20:12:00 +0000 2020</td>\n",
       "      <td>189</td>\n",
       "      <td>0</td>\n",
       "      <td>sport</td>\n",
       "    </tr>\n",
       "    <tr>\n",
       "      <th>37032</th>\n",
       "      <td>@ot_soror ايش نسوي..\\nاسبوع الفيفا 🤷‍♂️</td>\n",
       "      <td>T_S_H_17</td>\n",
       "      <td>Hamilton, Ontario</td>\n",
       "      <td>Sat Oct 10 20:20:13 +0000 2020</td>\n",
       "      <td>222</td>\n",
       "      <td>0</td>\n",
       "      <td>sport</td>\n",
       "    </tr>\n",
       "    <tr>\n",
       "      <th>37033</th>\n",
       "      <td>RT @0fj: عمالقة الفن الكويتي والخليجي\\nالذين ق...</td>\n",
       "      <td>SalemHajjaf</td>\n",
       "      <td>Najran</td>\n",
       "      <td>Sat Oct 10 18:20:02 +0000 2020</td>\n",
       "      <td>3337</td>\n",
       "      <td>3</td>\n",
       "      <td>art</td>\n",
       "    </tr>\n",
       "    <tr>\n",
       "      <th>37034</th>\n",
       "      <td>@EPLworld اخباركم بايتة 😜\\n\\nhttps://t.co/fdgy...</td>\n",
       "      <td>med_st_services</td>\n",
       "      <td>NaN</td>\n",
       "      <td>Fri Oct 09 21:17:32 +0000 2020</td>\n",
       "      <td>2</td>\n",
       "      <td>0</td>\n",
       "      <td>sport</td>\n",
       "    </tr>\n",
       "  </tbody>\n",
       "</table>\n",
       "<p>37035 rows × 7 columns</p>\n",
       "</div>"
      ],
      "text/plain": [
       "                                                    text         Username  \\\n",
       "0      RT @ahmedkotb127: نشترى\\nالاثاث\\nالمستعمل\\nبال...      Hamza__5555   \n",
       "1         @ateez1023 مب صاحينن المسرح بيت ابوهم حرفيا 😭😭       Yambam2001   \n",
       "2      RT @bnouf13: بصرف النظر عن الخصومة السياسية بي...       tough1girl   \n",
       "3      @DrAlghamdiMH الحقيقه هناك اسراف في المياه سوا...   faisal80792720   \n",
       "4      RT @F0cL12BUsxMp7iq: الله يخربيت الكوره ع الفي...  _amanymohamed74   \n",
       "...                                                  ...              ...   \n",
       "37030  ماشفنا للحين شي 💔💔💔💔\\nمر على هالخبر تقريبا سنه...         zezo321f   \n",
       "37031  RT @Shuoon_Royal: لجلالة السلطان هيثم بن طارق ...      Ask84728300   \n",
       "37032            @ot_soror ايش نسوي..\\nاسبوع الفيفا 🤷‍♂️         T_S_H_17   \n",
       "37033  RT @0fj: عمالقة الفن الكويتي والخليجي\\nالذين ق...      SalemHajjaf   \n",
       "37034  @EPLworld اخباركم بايتة 😜\\n\\nhttps://t.co/fdgy...  med_st_services   \n",
       "\n",
       "                               location                       Timestamp  \\\n",
       "0                                   NaN  Tue Oct 13 03:08:21 +0000 2020   \n",
       "1                                   NaN  Sat Oct 10 22:25:00 +0000 2020   \n",
       "2                                 Tabuk  Thu Oct 08 20:45:08 +0000 2020   \n",
       "3                                saudia  Tue Oct 13 03:03:02 +0000 2020   \n",
       "4                                Aswan   Fri Oct 09 20:47:37 +0000 2020   \n",
       "...                                 ...                             ...   \n",
       "37030  الطائف, المملكة العربية السعودية  Sat Oct 10 19:10:12 +0000 2020   \n",
       "37031                      Muscat, Oman  Sat Oct 10 20:12:00 +0000 2020   \n",
       "37032                 Hamilton, Ontario  Sat Oct 10 20:20:13 +0000 2020   \n",
       "37033                            Najran  Sat Oct 10 18:20:02 +0000 2020   \n",
       "37034                               NaN  Fri Oct 09 21:17:32 +0000 2020   \n",
       "\n",
       "       followers  label categorie  \n",
       "0           1028      4   economy  \n",
       "1             22      3       art  \n",
       "2            299      1   politic  \n",
       "3           3162      4   economy  \n",
       "4            238      0     sport  \n",
       "...          ...    ...       ...  \n",
       "37030        160      3       art  \n",
       "37031        189      0     sport  \n",
       "37032        222      0     sport  \n",
       "37033       3337      3       art  \n",
       "37034          2      0     sport  \n",
       "\n",
       "[37035 rows x 7 columns]"
      ]
     },
     "execution_count": 1,
     "metadata": {},
     "output_type": "execute_result"
    }
   ],
   "source": [
    "import pandas as pd\n",
    "df2=pd.read_csv('Arabic_project_data.csv')  \n",
    "df2.drop([\"Unnamed: 0\"], axis=1, inplace=True)\n",
    "df2"
   ]
  },
  {
   "cell_type": "markdown",
   "metadata": {},
   "source": [
    "\n",
    "<center><h1>Cleaning Tweets </h1></center>\n",
    " \n"
   ]
  },
  {
   "cell_type": "code",
   "execution_count": 2,
   "metadata": {},
   "outputs": [],
   "source": [
    "import string \n",
    "from string import digits\n",
    "import re\n",
    "def clean_tweets(text):\n",
    "     \n",
    "    remove_digits = str.maketrans('', '', digits)\n",
    "    text =text.translate(remove_digits)\n",
    "    text=text.translate(str.maketrans('', '', string.punctuation))#removing all ponctuations\n",
    " \n",
    "    text = re.sub(\"@[_A-Za-z0-9]+\",\"\",text) #Removing mention\n",
    "    text=re.sub(\"[^\\w\\s#@/:%.,_-]\", \"\", text, flags=re.UNICODE)#REmove emoji\n",
    "   \n",
    "    text=re.sub(r'\\s*[A-Za-z]+\\b', '' , text)#remove no arabic word\n",
    "    text=re.sub(r'#','',text)# removing hachtag\n",
    "    text=re.sub(r'https?:\\/\\/\\s+','',text)#remove the hyper link\n",
    "    text = re.sub(\"\\n\",\"\",text)\n",
    "    text=re.sub(r'^[A-Za-z0-9.!?:؟]+',\" \",text) ##Removing digits and punctuations\n",
    "    text = re.sub(\"\\n\",\"\",text)\n",
    "    text = re.sub(u'\\xa0','',text)\n",
    "    text = re.sub(r'[\\u064B\\u064C\\u064D\\u064E\\u064F\\u0650\\u0651\\u0652]','',text)\n",
    "    #text = re.sub(\"[إأٱآا]\", \"ا\", text)\n",
    "    text = re.sub(\"[ااا]+\",\"ا\",text)\n",
    "    #text = re.sub(\"[ي\",\"+[يييي\",text)\n",
    "    text = re.sub(\"[a-zA-Z]+\",\"\",text)\n",
    "    text = re.sub(\"²\", \"\", text)\n",
    "    text = re.sub(\"[0-9]+\",\"\",text)\n",
    "\n",
    "    text = re.sub(\"[ﷺöüçāīṣııšḥāḫםבםבḥāā]\", \"\",text)\n",
    "    text = re.sub(\"[헨리생일축하해요왕자어린]\", \"\",text)\n",
    "    text = re.sub(r'http', '',text)\n",
    "    text=re.sub('[٠١٢٣٤٥٦٧٨٩]',\"\",text)\n",
    "  \n",
    "    text = re.sub('öü','',text)\n",
    "    \n",
    "    \n",
    "    return text\n",
    "df2['text']=df2['text'].apply(lambda x: clean_tweets(x))"
   ]
  },
  {
   "cell_type": "code",
   "execution_count": 12,
   "metadata": {},
   "outputs": [
    {
     "data": {
      "text/plain": [
       "' لقاء عملاقين تجمعهما دهاء و حنكة السياسية والرؤية والتطوير بكم نفخر وفقكم الله وسدد خطاكم  محمدبنسلمان بندربن'"
      ]
     },
     "execution_count": 12,
     "metadata": {},
     "output_type": "execute_result"
    }
   ],
   "source": [
    "df2['text'][5]"
   ]
  },
  {
   "cell_type": "markdown",
   "metadata": {},
   "source": [
    "\n",
    "<center><h1>Word Frequencies</h1> </center>\n",
    "\n"
   ]
  },
  {
   "cell_type": "code",
   "execution_count": null,
   "metadata": {},
   "outputs": [],
   "source": [
    "tweets = df2.text.str.cat(sep=' ')\n",
    "tweets "
   ]
  },
  {
   "cell_type": "code",
   "execution_count": 36,
   "metadata": {},
   "outputs": [
    {
     "name": "stdout",
     "output_type": "stream",
     "text": [
      "64084\n"
     ]
    },
    {
     "data": {
      "text/plain": [
       "['في',\n",
       " 'من',\n",
       " 'على',\n",
       " 'و',\n",
       " 'عن',\n",
       " 'الله',\n",
       " 'ما',\n",
       " 'لا',\n",
       " 'الرياضة',\n",
       " 'الحكومة',\n",
       " 'كل',\n",
       " 'أن',\n",
       " 'ان',\n",
       " 'مع',\n",
       " 'التجارة',\n",
       " 'الدين',\n",
       " 'القانون',\n",
       " 'كرة',\n",
       " 'هذا',\n",
       " 'القدم']"
      ]
     },
     "execution_count": 36,
     "metadata": {},
     "output_type": "execute_result"
    }
   ],
   "source": [
    "import nltk\n",
    "from nltk.tokenize import word_tokenize\n",
    "#function to split text into word\n",
    "tokens = word_tokenize(tweets)\n",
    "\n",
    "vocabulary = set(tokens)\n",
    "print(len(vocabulary))\n",
    "\n",
    "frequency_dist = nltk.FreqDist(tokens)\n",
    "sorted(frequency_dist,key=frequency_dist.__getitem__, reverse=True)[0:20]"
   ]
  },
  {
   "cell_type": "markdown",
   "metadata": {},
   "source": [
    "\n",
    "<center><h1>Unigrams by Counts </h1> </center>\n"
   ]
  },
  {
   "cell_type": "code",
   "execution_count": 4,
   "metadata": {},
   "outputs": [
    {
     "name": "stderr",
     "output_type": "stream",
     "text": [
      "C:\\Users\\admin\\Anaconda3\\lib\\site-packages\\sklearn\\utils\\validation.py:70: FutureWarning: Pass input=1, encoding=1 as keyword args. From version 0.25 passing these as positional arguments will result in an error\n",
      "  FutureWarning)\n"
     ]
    },
    {
     "name": "stdout",
     "output_type": "stream",
     "text": [
      "في 13404\n",
      "من 13388\n",
      "على 7541\n",
      "عن 3632\n",
      "الله 3205\n",
      "ما 2847\n",
      "لا 2824\n",
      "الرياضة 2377\n",
      "الحكومة 2330\n",
      "كل 2218\n"
     ]
    },
    {
     "data": {
      "text/html": [
       "<div>\n",
       "<style scoped>\n",
       "    .dataframe tbody tr th:only-of-type {\n",
       "        vertical-align: middle;\n",
       "    }\n",
       "\n",
       "    .dataframe tbody tr th {\n",
       "        vertical-align: top;\n",
       "    }\n",
       "\n",
       "    .dataframe thead th {\n",
       "        text-align: right;\n",
       "    }\n",
       "</style>\n",
       "<table border=\"1\" class=\"dataframe\">\n",
       "  <thead>\n",
       "    <tr style=\"text-align: right;\">\n",
       "      <th></th>\n",
       "      <th>word</th>\n",
       "      <th>count</th>\n",
       "    </tr>\n",
       "  </thead>\n",
       "  <tbody>\n",
       "    <tr>\n",
       "      <th>0</th>\n",
       "      <td>في</td>\n",
       "      <td>13404</td>\n",
       "    </tr>\n",
       "    <tr>\n",
       "      <th>1</th>\n",
       "      <td>من</td>\n",
       "      <td>13388</td>\n",
       "    </tr>\n",
       "    <tr>\n",
       "      <th>2</th>\n",
       "      <td>على</td>\n",
       "      <td>7541</td>\n",
       "    </tr>\n",
       "    <tr>\n",
       "      <th>3</th>\n",
       "      <td>عن</td>\n",
       "      <td>3632</td>\n",
       "    </tr>\n",
       "    <tr>\n",
       "      <th>4</th>\n",
       "      <td>الله</td>\n",
       "      <td>3205</td>\n",
       "    </tr>\n",
       "    <tr>\n",
       "      <th>5</th>\n",
       "      <td>ما</td>\n",
       "      <td>2847</td>\n",
       "    </tr>\n",
       "    <tr>\n",
       "      <th>6</th>\n",
       "      <td>لا</td>\n",
       "      <td>2824</td>\n",
       "    </tr>\n",
       "    <tr>\n",
       "      <th>7</th>\n",
       "      <td>الرياضة</td>\n",
       "      <td>2377</td>\n",
       "    </tr>\n",
       "    <tr>\n",
       "      <th>8</th>\n",
       "      <td>الحكومة</td>\n",
       "      <td>2330</td>\n",
       "    </tr>\n",
       "    <tr>\n",
       "      <th>9</th>\n",
       "      <td>كل</td>\n",
       "      <td>2218</td>\n",
       "    </tr>\n",
       "  </tbody>\n",
       "</table>\n",
       "</div>"
      ],
      "text/plain": [
       "      word  count\n",
       "0       في  13404\n",
       "1       من  13388\n",
       "2      على   7541\n",
       "3       عن   3632\n",
       "4     الله   3205\n",
       "5       ما   2847\n",
       "6       لا   2824\n",
       "7  الرياضة   2377\n",
       "8  الحكومة   2330\n",
       "9       كل   2218"
      ]
     },
     "execution_count": 4,
     "metadata": {},
     "output_type": "execute_result"
    }
   ],
   "source": [
    "from sklearn.feature_extraction.text import CountVectorizer\n",
    "def top_n_words(corpus, n=None):\n",
    "    vect = CountVectorizer(1,1).fit(corpus)\n",
    "    bag_of_words = vect.transform(corpus)\n",
    "    sum_words = bag_of_words.sum(axis=0) \n",
    "    words_freq = [(word, sum_words[0, idx]) for word, idx in vect.vocabulary_.items()]\n",
    "    words_freq =sorted(words_freq, key = lambda x: x[1], reverse=True)\n",
    "    return words_freq[:n]\n",
    "common_words = top_n_words(df2['text'], 10)\n",
    "for word, count in common_words:\n",
    "    \n",
    "    print(word, count)\n",
    "df_unigrams = pd.DataFrame(common_words, columns = ['word' , 'count'])\n",
    "df_unigrams.head(10)\n",
    "#df_unigrams.to_csv('unigrams.csv')"
   ]
  },
  {
   "cell_type": "markdown",
   "metadata": {},
   "source": [
    "<center><h1>Bigrams By counts </h1></center>\n"
   ]
  },
  {
   "cell_type": "code",
   "execution_count": 5,
   "metadata": {},
   "outputs": [
    {
     "data": {
      "text/html": [
       "<div>\n",
       "<style scoped>\n",
       "    .dataframe tbody tr th:only-of-type {\n",
       "        vertical-align: middle;\n",
       "    }\n",
       "\n",
       "    .dataframe tbody tr th {\n",
       "        vertical-align: top;\n",
       "    }\n",
       "\n",
       "    .dataframe thead th {\n",
       "        text-align: right;\n",
       "    }\n",
       "</style>\n",
       "<table border=\"1\" class=\"dataframe\">\n",
       "  <thead>\n",
       "    <tr style=\"text-align: right;\">\n",
       "      <th></th>\n",
       "      <th>word</th>\n",
       "      <th>count</th>\n",
       "    </tr>\n",
       "  </thead>\n",
       "  <tbody>\n",
       "    <tr>\n",
       "      <th>0</th>\n",
       "      <td>كرة القدم</td>\n",
       "      <td>1549</td>\n",
       "    </tr>\n",
       "    <tr>\n",
       "      <th>1</th>\n",
       "      <td>وزارة الرياضة</td>\n",
       "      <td>789</td>\n",
       "    </tr>\n",
       "    <tr>\n",
       "      <th>2</th>\n",
       "      <td>بك من</td>\n",
       "      <td>611</td>\n",
       "    </tr>\n",
       "    <tr>\n",
       "      <th>3</th>\n",
       "      <td>أعوذ بك</td>\n",
       "      <td>562</td>\n",
       "    </tr>\n",
       "    <tr>\n",
       "      <th>4</th>\n",
       "      <td>إني أعوذ</td>\n",
       "      <td>561</td>\n",
       "    </tr>\n",
       "    <tr>\n",
       "      <th>5</th>\n",
       "      <td>من الهم</td>\n",
       "      <td>553</td>\n",
       "    </tr>\n",
       "    <tr>\n",
       "      <th>6</th>\n",
       "      <td>اللهم إني</td>\n",
       "      <td>552</td>\n",
       "    </tr>\n",
       "    <tr>\n",
       "      <th>7</th>\n",
       "      <td>الهم والحزن</td>\n",
       "      <td>550</td>\n",
       "    </tr>\n",
       "    <tr>\n",
       "      <th>8</th>\n",
       "      <td>الدين وقهر</td>\n",
       "      <td>549</td>\n",
       "    </tr>\n",
       "    <tr>\n",
       "      <th>9</th>\n",
       "      <td>والحزن والعجز</td>\n",
       "      <td>546</td>\n",
       "    </tr>\n",
       "  </tbody>\n",
       "</table>\n",
       "</div>"
      ],
      "text/plain": [
       "            word  count\n",
       "0      كرة القدم   1549\n",
       "1  وزارة الرياضة    789\n",
       "2          بك من    611\n",
       "3        أعوذ بك    562\n",
       "4       إني أعوذ    561\n",
       "5        من الهم    553\n",
       "6      اللهم إني    552\n",
       "7    الهم والحزن    550\n",
       "8     الدين وقهر    549\n",
       "9  والحزن والعجز    546"
      ]
     },
     "execution_count": 5,
     "metadata": {},
     "output_type": "execute_result"
    }
   ],
   "source": [
    "def top_n_words(corpus, n=None):\n",
    "    vect = CountVectorizer(ngram_range=(2, 2)).fit(corpus)\n",
    "    bag_of_words = vect.transform(corpus)\n",
    "    sum_words = bag_of_words.sum(axis=0) \n",
    "    words_freq = [(word, sum_words[0, idx]) for word, idx in vect.vocabulary_.items()]\n",
    "    words_freq =sorted(words_freq, key = lambda x: x[1], reverse=True)\n",
    "    return words_freq[:n]\n",
    "common_words = top_n_words(df2['text'], 100)\n",
    "#for word, count in common_words:\n",
    "    \n",
    "    #print(word, count)\n",
    "df_bigrams = pd.DataFrame(common_words, columns = ['word' , 'count'])\n",
    "df_bigrams.head(10)\n",
    "#df_bigrams.to_csv('df_bigrams.csv')"
   ]
  },
  {
   "cell_type": "code",
   "execution_count": 6,
   "metadata": {},
   "outputs": [
    {
     "data": {
      "text/html": [
       "        <script type=\"text/javascript\">\n",
       "        window.PlotlyConfig = {MathJaxConfig: 'local'};\n",
       "        if (window.MathJax) {MathJax.Hub.Config({SVG: {font: \"STIX-Web\"}});}\n",
       "        if (typeof require !== 'undefined') {\n",
       "        require.undef(\"plotly\");\n",
       "        requirejs.config({\n",
       "            paths: {\n",
       "                'plotly': ['https://cdn.plot.ly/plotly-latest.min']\n",
       "            }\n",
       "        });\n",
       "        require(['plotly'], function(Plotly) {\n",
       "            window._Plotly = Plotly;\n",
       "        });\n",
       "        }\n",
       "        </script>\n",
       "        "
      ]
     },
     "metadata": {},
     "output_type": "display_data"
    },
    {
     "data": {
      "application/vnd.plotly.v1+json": {
       "config": {
        "linkText": "Export to plot.ly",
        "plotlyServerURL": "https://plot.ly",
        "showLink": true
       },
       "data": [
        {
         "marker": {
          "color": "rgba(255, 153, 51, 0.6)",
          "line": {
           "color": "rgba(255, 153, 51, 1.0)",
           "width": 1
          }
         },
         "name": "count",
         "orientation": "v",
         "text": "",
         "type": "bar",
         "x": [
          "كرة القدم",
          "وزارة الرياضة",
          "بك من",
          "أعوذ بك",
          "إني أعوذ",
          "من الهم",
          "اللهم إني",
          "الهم والحزن",
          "الدين وقهر",
          "والعجز والكسل",
          "والحزن والعجز",
          "والكسل والجبن",
          "والجبن والبخل",
          "وقهر الرجال",
          "وغلبة الدين",
          "والبخل وغلبة",
          "شركات تركية",
          "اليوم خطاب",
          "للسعودية تطالبها",
          "تطالبها بالعمل",
          "تركية ارسلت",
          "بالعمل على",
          "خطاب للسعودية",
          "ارسلت اليوم",
          "نقل عفش",
          "تصدر قرار",
          "قرار رسمي",
          "معاهدة التجارة",
          "موقعة على",
          "التجارة الدولية",
          "على معاهدة",
          "الإجابة الدولة",
          "الدولة ما",
          "يسألون ليه",
          "ليه الدولة",
          "مقاطعةالبضائعالتركية ليه",
          "الدولة موقعة",
          "خلاص الإجابة",
          "ليه مقاطعةالبضائعالتركية",
          "رسمي خلاص",
          "ما تصدر",
          "على تعزيز",
          "انباء عن",
          "مقاطعة شعبية",
          "عن مقاطعة",
          "القرآن الكريم",
          "واسعة للبضائع",
          "شعبية واسعة",
          "التجارة وسط",
          "وسط انباء",
          "تعزيز التجارة",
          "للبضائع التركية",
          "اكبر شركات",
          "تطبيق القانون",
          "وزير الرياضة",
          "وزارة التجارة",
          "الصلاة والسلام",
          "في اسقاط",
          "الرياضة في",
          "المنتجات التركية",
          "الصلاة على",
          "الاقتصاد التركي",
          "أن يكون",
          "في التمثيل",
          "نشترىالاثاثالمستعملبالرياضبأفضلالاسعارغرفمطابخمكيفاتشراءنقلعفشمحلبيعاثاثبالرياضشراءاثاثمستعمل بالرياض",
          "الله في",
          "على النبي",
          "احمد فهمي",
          "شاء الله",
          "شراء اثاث",
          "اثاث مستعمل",
          "الدوري الممتاز",
          "في كرة",
          "الحكومة السعودية",
          "في عامها",
          "من وضع",
          "كل التحية",
          "وضع جدول",
          "الزمالك علي",
          "التحية والتقدير",
          "يكون مارس",
          "القانون النفطي",
          "الكبير المبذول",
          "والتقدير للاعبي",
          "مارس كرة",
          "للاعبي الزمالك",
          "في البيت",
          "علي المجهود",
          "أتحدي من",
          "جدول الدوري",
          "الممتاز أن",
          "المجهود الكبير",
          "المبذول أتحدي",
          "رحمه الله",
          "رايحة تشتري",
          "خيار وبصل",
          "تشتري خيار",
          "مسلمة رايحة",
          "وبصل وبالصدفة",
          "وحدة مسلمة"
         ],
         "y": [
          1549,
          789,
          611,
          562,
          561,
          553,
          552,
          550,
          549,
          546,
          546,
          543,
          543,
          521,
          511,
          511,
          391,
          388,
          387,
          387,
          387,
          387,
          387,
          387,
          379,
          375,
          369,
          368,
          367,
          367,
          367,
          366,
          366,
          366,
          366,
          366,
          366,
          366,
          366,
          366,
          366,
          351,
          349,
          348,
          348,
          348,
          348,
          348,
          348,
          348,
          348,
          348,
          347,
          342,
          334,
          323,
          309,
          305,
          301,
          294,
          294,
          293,
          283,
          250,
          248,
          245,
          237,
          228,
          222,
          219,
          209,
          209,
          208,
          207,
          207,
          205,
          204,
          204,
          202,
          202,
          202,
          202,
          202,
          202,
          202,
          202,
          202,
          202,
          202,
          202,
          202,
          202,
          202,
          196,
          194,
          193,
          193,
          193,
          193,
          193
         ]
        }
       ],
       "layout": {
        "legend": {
         "bgcolor": "#F5F6F9",
         "font": {
          "color": "#4D5663"
         }
        },
        "paper_bgcolor": "#F5F6F9",
        "plot_bgcolor": "#F5F6F9",
        "template": {
         "data": {
          "bar": [
           {
            "error_x": {
             "color": "#2a3f5f"
            },
            "error_y": {
             "color": "#2a3f5f"
            },
            "marker": {
             "line": {
              "color": "#E5ECF6",
              "width": 0.5
             }
            },
            "type": "bar"
           }
          ],
          "barpolar": [
           {
            "marker": {
             "line": {
              "color": "#E5ECF6",
              "width": 0.5
             }
            },
            "type": "barpolar"
           }
          ],
          "carpet": [
           {
            "aaxis": {
             "endlinecolor": "#2a3f5f",
             "gridcolor": "white",
             "linecolor": "white",
             "minorgridcolor": "white",
             "startlinecolor": "#2a3f5f"
            },
            "baxis": {
             "endlinecolor": "#2a3f5f",
             "gridcolor": "white",
             "linecolor": "white",
             "minorgridcolor": "white",
             "startlinecolor": "#2a3f5f"
            },
            "type": "carpet"
           }
          ],
          "choropleth": [
           {
            "colorbar": {
             "outlinewidth": 0,
             "ticks": ""
            },
            "type": "choropleth"
           }
          ],
          "contour": [
           {
            "colorbar": {
             "outlinewidth": 0,
             "ticks": ""
            },
            "colorscale": [
             [
              0,
              "#0d0887"
             ],
             [
              0.1111111111111111,
              "#46039f"
             ],
             [
              0.2222222222222222,
              "#7201a8"
             ],
             [
              0.3333333333333333,
              "#9c179e"
             ],
             [
              0.4444444444444444,
              "#bd3786"
             ],
             [
              0.5555555555555556,
              "#d8576b"
             ],
             [
              0.6666666666666666,
              "#ed7953"
             ],
             [
              0.7777777777777778,
              "#fb9f3a"
             ],
             [
              0.8888888888888888,
              "#fdca26"
             ],
             [
              1,
              "#f0f921"
             ]
            ],
            "type": "contour"
           }
          ],
          "contourcarpet": [
           {
            "colorbar": {
             "outlinewidth": 0,
             "ticks": ""
            },
            "type": "contourcarpet"
           }
          ],
          "heatmap": [
           {
            "colorbar": {
             "outlinewidth": 0,
             "ticks": ""
            },
            "colorscale": [
             [
              0,
              "#0d0887"
             ],
             [
              0.1111111111111111,
              "#46039f"
             ],
             [
              0.2222222222222222,
              "#7201a8"
             ],
             [
              0.3333333333333333,
              "#9c179e"
             ],
             [
              0.4444444444444444,
              "#bd3786"
             ],
             [
              0.5555555555555556,
              "#d8576b"
             ],
             [
              0.6666666666666666,
              "#ed7953"
             ],
             [
              0.7777777777777778,
              "#fb9f3a"
             ],
             [
              0.8888888888888888,
              "#fdca26"
             ],
             [
              1,
              "#f0f921"
             ]
            ],
            "type": "heatmap"
           }
          ],
          "heatmapgl": [
           {
            "colorbar": {
             "outlinewidth": 0,
             "ticks": ""
            },
            "colorscale": [
             [
              0,
              "#0d0887"
             ],
             [
              0.1111111111111111,
              "#46039f"
             ],
             [
              0.2222222222222222,
              "#7201a8"
             ],
             [
              0.3333333333333333,
              "#9c179e"
             ],
             [
              0.4444444444444444,
              "#bd3786"
             ],
             [
              0.5555555555555556,
              "#d8576b"
             ],
             [
              0.6666666666666666,
              "#ed7953"
             ],
             [
              0.7777777777777778,
              "#fb9f3a"
             ],
             [
              0.8888888888888888,
              "#fdca26"
             ],
             [
              1,
              "#f0f921"
             ]
            ],
            "type": "heatmapgl"
           }
          ],
          "histogram": [
           {
            "marker": {
             "colorbar": {
              "outlinewidth": 0,
              "ticks": ""
             }
            },
            "type": "histogram"
           }
          ],
          "histogram2d": [
           {
            "colorbar": {
             "outlinewidth": 0,
             "ticks": ""
            },
            "colorscale": [
             [
              0,
              "#0d0887"
             ],
             [
              0.1111111111111111,
              "#46039f"
             ],
             [
              0.2222222222222222,
              "#7201a8"
             ],
             [
              0.3333333333333333,
              "#9c179e"
             ],
             [
              0.4444444444444444,
              "#bd3786"
             ],
             [
              0.5555555555555556,
              "#d8576b"
             ],
             [
              0.6666666666666666,
              "#ed7953"
             ],
             [
              0.7777777777777778,
              "#fb9f3a"
             ],
             [
              0.8888888888888888,
              "#fdca26"
             ],
             [
              1,
              "#f0f921"
             ]
            ],
            "type": "histogram2d"
           }
          ],
          "histogram2dcontour": [
           {
            "colorbar": {
             "outlinewidth": 0,
             "ticks": ""
            },
            "colorscale": [
             [
              0,
              "#0d0887"
             ],
             [
              0.1111111111111111,
              "#46039f"
             ],
             [
              0.2222222222222222,
              "#7201a8"
             ],
             [
              0.3333333333333333,
              "#9c179e"
             ],
             [
              0.4444444444444444,
              "#bd3786"
             ],
             [
              0.5555555555555556,
              "#d8576b"
             ],
             [
              0.6666666666666666,
              "#ed7953"
             ],
             [
              0.7777777777777778,
              "#fb9f3a"
             ],
             [
              0.8888888888888888,
              "#fdca26"
             ],
             [
              1,
              "#f0f921"
             ]
            ],
            "type": "histogram2dcontour"
           }
          ],
          "mesh3d": [
           {
            "colorbar": {
             "outlinewidth": 0,
             "ticks": ""
            },
            "type": "mesh3d"
           }
          ],
          "parcoords": [
           {
            "line": {
             "colorbar": {
              "outlinewidth": 0,
              "ticks": ""
             }
            },
            "type": "parcoords"
           }
          ],
          "pie": [
           {
            "automargin": true,
            "type": "pie"
           }
          ],
          "scatter": [
           {
            "marker": {
             "colorbar": {
              "outlinewidth": 0,
              "ticks": ""
             }
            },
            "type": "scatter"
           }
          ],
          "scatter3d": [
           {
            "line": {
             "colorbar": {
              "outlinewidth": 0,
              "ticks": ""
             }
            },
            "marker": {
             "colorbar": {
              "outlinewidth": 0,
              "ticks": ""
             }
            },
            "type": "scatter3d"
           }
          ],
          "scattercarpet": [
           {
            "marker": {
             "colorbar": {
              "outlinewidth": 0,
              "ticks": ""
             }
            },
            "type": "scattercarpet"
           }
          ],
          "scattergeo": [
           {
            "marker": {
             "colorbar": {
              "outlinewidth": 0,
              "ticks": ""
             }
            },
            "type": "scattergeo"
           }
          ],
          "scattergl": [
           {
            "marker": {
             "colorbar": {
              "outlinewidth": 0,
              "ticks": ""
             }
            },
            "type": "scattergl"
           }
          ],
          "scattermapbox": [
           {
            "marker": {
             "colorbar": {
              "outlinewidth": 0,
              "ticks": ""
             }
            },
            "type": "scattermapbox"
           }
          ],
          "scatterpolar": [
           {
            "marker": {
             "colorbar": {
              "outlinewidth": 0,
              "ticks": ""
             }
            },
            "type": "scatterpolar"
           }
          ],
          "scatterpolargl": [
           {
            "marker": {
             "colorbar": {
              "outlinewidth": 0,
              "ticks": ""
             }
            },
            "type": "scatterpolargl"
           }
          ],
          "scatterternary": [
           {
            "marker": {
             "colorbar": {
              "outlinewidth": 0,
              "ticks": ""
             }
            },
            "type": "scatterternary"
           }
          ],
          "surface": [
           {
            "colorbar": {
             "outlinewidth": 0,
             "ticks": ""
            },
            "colorscale": [
             [
              0,
              "#0d0887"
             ],
             [
              0.1111111111111111,
              "#46039f"
             ],
             [
              0.2222222222222222,
              "#7201a8"
             ],
             [
              0.3333333333333333,
              "#9c179e"
             ],
             [
              0.4444444444444444,
              "#bd3786"
             ],
             [
              0.5555555555555556,
              "#d8576b"
             ],
             [
              0.6666666666666666,
              "#ed7953"
             ],
             [
              0.7777777777777778,
              "#fb9f3a"
             ],
             [
              0.8888888888888888,
              "#fdca26"
             ],
             [
              1,
              "#f0f921"
             ]
            ],
            "type": "surface"
           }
          ],
          "table": [
           {
            "cells": {
             "fill": {
              "color": "#EBF0F8"
             },
             "line": {
              "color": "white"
             }
            },
            "header": {
             "fill": {
              "color": "#C8D4E3"
             },
             "line": {
              "color": "white"
             }
            },
            "type": "table"
           }
          ]
         },
         "layout": {
          "annotationdefaults": {
           "arrowcolor": "#2a3f5f",
           "arrowhead": 0,
           "arrowwidth": 1
          },
          "coloraxis": {
           "colorbar": {
            "outlinewidth": 0,
            "ticks": ""
           }
          },
          "colorscale": {
           "diverging": [
            [
             0,
             "#8e0152"
            ],
            [
             0.1,
             "#c51b7d"
            ],
            [
             0.2,
             "#de77ae"
            ],
            [
             0.3,
             "#f1b6da"
            ],
            [
             0.4,
             "#fde0ef"
            ],
            [
             0.5,
             "#f7f7f7"
            ],
            [
             0.6,
             "#e6f5d0"
            ],
            [
             0.7,
             "#b8e186"
            ],
            [
             0.8,
             "#7fbc41"
            ],
            [
             0.9,
             "#4d9221"
            ],
            [
             1,
             "#276419"
            ]
           ],
           "sequential": [
            [
             0,
             "#0d0887"
            ],
            [
             0.1111111111111111,
             "#46039f"
            ],
            [
             0.2222222222222222,
             "#7201a8"
            ],
            [
             0.3333333333333333,
             "#9c179e"
            ],
            [
             0.4444444444444444,
             "#bd3786"
            ],
            [
             0.5555555555555556,
             "#d8576b"
            ],
            [
             0.6666666666666666,
             "#ed7953"
            ],
            [
             0.7777777777777778,
             "#fb9f3a"
            ],
            [
             0.8888888888888888,
             "#fdca26"
            ],
            [
             1,
             "#f0f921"
            ]
           ],
           "sequentialminus": [
            [
             0,
             "#0d0887"
            ],
            [
             0.1111111111111111,
             "#46039f"
            ],
            [
             0.2222222222222222,
             "#7201a8"
            ],
            [
             0.3333333333333333,
             "#9c179e"
            ],
            [
             0.4444444444444444,
             "#bd3786"
            ],
            [
             0.5555555555555556,
             "#d8576b"
            ],
            [
             0.6666666666666666,
             "#ed7953"
            ],
            [
             0.7777777777777778,
             "#fb9f3a"
            ],
            [
             0.8888888888888888,
             "#fdca26"
            ],
            [
             1,
             "#f0f921"
            ]
           ]
          },
          "colorway": [
           "#636efa",
           "#EF553B",
           "#00cc96",
           "#ab63fa",
           "#FFA15A",
           "#19d3f3",
           "#FF6692",
           "#B6E880",
           "#FF97FF",
           "#FECB52"
          ],
          "font": {
           "color": "#2a3f5f"
          },
          "geo": {
           "bgcolor": "white",
           "lakecolor": "white",
           "landcolor": "#E5ECF6",
           "showlakes": true,
           "showland": true,
           "subunitcolor": "white"
          },
          "hoverlabel": {
           "align": "left"
          },
          "hovermode": "closest",
          "mapbox": {
           "style": "light"
          },
          "paper_bgcolor": "white",
          "plot_bgcolor": "#E5ECF6",
          "polar": {
           "angularaxis": {
            "gridcolor": "white",
            "linecolor": "white",
            "ticks": ""
           },
           "bgcolor": "#E5ECF6",
           "radialaxis": {
            "gridcolor": "white",
            "linecolor": "white",
            "ticks": ""
           }
          },
          "scene": {
           "xaxis": {
            "backgroundcolor": "#E5ECF6",
            "gridcolor": "white",
            "gridwidth": 2,
            "linecolor": "white",
            "showbackground": true,
            "ticks": "",
            "zerolinecolor": "white"
           },
           "yaxis": {
            "backgroundcolor": "#E5ECF6",
            "gridcolor": "white",
            "gridwidth": 2,
            "linecolor": "white",
            "showbackground": true,
            "ticks": "",
            "zerolinecolor": "white"
           },
           "zaxis": {
            "backgroundcolor": "#E5ECF6",
            "gridcolor": "white",
            "gridwidth": 2,
            "linecolor": "white",
            "showbackground": true,
            "ticks": "",
            "zerolinecolor": "white"
           }
          },
          "shapedefaults": {
           "line": {
            "color": "#2a3f5f"
           }
          },
          "ternary": {
           "aaxis": {
            "gridcolor": "white",
            "linecolor": "white",
            "ticks": ""
           },
           "baxis": {
            "gridcolor": "white",
            "linecolor": "white",
            "ticks": ""
           },
           "bgcolor": "#E5ECF6",
           "caxis": {
            "gridcolor": "white",
            "linecolor": "white",
            "ticks": ""
           }
          },
          "title": {
           "x": 0.05
          },
          "xaxis": {
           "automargin": true,
           "gridcolor": "white",
           "linecolor": "white",
           "ticks": "",
           "title": {
            "standoff": 15
           },
           "zerolinecolor": "white",
           "zerolinewidth": 2
          },
          "yaxis": {
           "automargin": true,
           "gridcolor": "white",
           "linecolor": "white",
           "ticks": "",
           "title": {
            "standoff": 15
           },
           "zerolinecolor": "white",
           "zerolinewidth": 2
          }
         }
        },
        "title": {
         "font": {
          "color": "#4D5663"
         },
         "text": "top 100 bigrams in text"
        },
        "xaxis": {
         "gridcolor": "#E1E5ED",
         "linecolor": "black",
         "showgrid": true,
         "tickfont": {
          "color": "#4D5663"
         },
         "title": {
          "font": {
           "color": "#4D5663"
          },
          "text": ""
         },
         "zerolinecolor": "#E1E5ED"
        },
        "yaxis": {
         "gridcolor": "#E1E5ED",
         "linecolor": "black",
         "showgrid": true,
         "tickfont": {
          "color": "#4D5663"
         },
         "title": {
          "font": {
           "color": "#4D5663"
          },
          "text": "Count"
         },
         "zerolinecolor": "#E1E5ED"
        }
       }
      },
      "text/html": [
       "<div>\n",
       "        \n",
       "        \n",
       "            <div id=\"df0afc6c-60d2-4fda-859b-0ebfe785379e\" class=\"plotly-graph-div\" style=\"height:525px; width:100%;\"></div>\n",
       "            <script type=\"text/javascript\">\n",
       "                require([\"plotly\"], function(Plotly) {\n",
       "                    window.PLOTLYENV=window.PLOTLYENV || {};\n",
       "                    window.PLOTLYENV.BASE_URL='https://plot.ly';\n",
       "                    \n",
       "                if (document.getElementById(\"df0afc6c-60d2-4fda-859b-0ebfe785379e\")) {\n",
       "                    Plotly.newPlot(\n",
       "                        'df0afc6c-60d2-4fda-859b-0ebfe785379e',\n",
       "                        [{\"marker\": {\"color\": \"rgba(255, 153, 51, 0.6)\", \"line\": {\"color\": \"rgba(255, 153, 51, 1.0)\", \"width\": 1}}, \"name\": \"count\", \"orientation\": \"v\", \"text\": \"\", \"type\": \"bar\", \"x\": [\"\\u0643\\u0631\\u0629 \\u0627\\u0644\\u0642\\u062f\\u0645\", \"\\u0648\\u0632\\u0627\\u0631\\u0629 \\u0627\\u0644\\u0631\\u064a\\u0627\\u0636\\u0629\", \"\\u0628\\u0643 \\u0645\\u0646\", \"\\u0623\\u0639\\u0648\\u0630 \\u0628\\u0643\", \"\\u0625\\u0646\\u064a \\u0623\\u0639\\u0648\\u0630\", \"\\u0645\\u0646 \\u0627\\u0644\\u0647\\u0645\", \"\\u0627\\u0644\\u0644\\u0647\\u0645 \\u0625\\u0646\\u064a\", \"\\u0627\\u0644\\u0647\\u0645 \\u0648\\u0627\\u0644\\u062d\\u0632\\u0646\", \"\\u0627\\u0644\\u062f\\u064a\\u0646 \\u0648\\u0642\\u0647\\u0631\", \"\\u0648\\u0627\\u0644\\u0639\\u062c\\u0632 \\u0648\\u0627\\u0644\\u0643\\u0633\\u0644\", \"\\u0648\\u0627\\u0644\\u062d\\u0632\\u0646 \\u0648\\u0627\\u0644\\u0639\\u062c\\u0632\", \"\\u0648\\u0627\\u0644\\u0643\\u0633\\u0644 \\u0648\\u0627\\u0644\\u062c\\u0628\\u0646\", \"\\u0648\\u0627\\u0644\\u062c\\u0628\\u0646 \\u0648\\u0627\\u0644\\u0628\\u062e\\u0644\", \"\\u0648\\u0642\\u0647\\u0631 \\u0627\\u0644\\u0631\\u062c\\u0627\\u0644\", \"\\u0648\\u063a\\u0644\\u0628\\u0629 \\u0627\\u0644\\u062f\\u064a\\u0646\", \"\\u0648\\u0627\\u0644\\u0628\\u062e\\u0644 \\u0648\\u063a\\u0644\\u0628\\u0629\", \"\\u0634\\u0631\\u0643\\u0627\\u062a \\u062a\\u0631\\u0643\\u064a\\u0629\", \"\\u0627\\u0644\\u064a\\u0648\\u0645 \\u062e\\u0637\\u0627\\u0628\", \"\\u0644\\u0644\\u0633\\u0639\\u0648\\u062f\\u064a\\u0629 \\u062a\\u0637\\u0627\\u0644\\u0628\\u0647\\u0627\", \"\\u062a\\u0637\\u0627\\u0644\\u0628\\u0647\\u0627 \\u0628\\u0627\\u0644\\u0639\\u0645\\u0644\", \"\\u062a\\u0631\\u0643\\u064a\\u0629 \\u0627\\u0631\\u0633\\u0644\\u062a\", \"\\u0628\\u0627\\u0644\\u0639\\u0645\\u0644 \\u0639\\u0644\\u0649\", \"\\u062e\\u0637\\u0627\\u0628 \\u0644\\u0644\\u0633\\u0639\\u0648\\u062f\\u064a\\u0629\", \"\\u0627\\u0631\\u0633\\u0644\\u062a \\u0627\\u0644\\u064a\\u0648\\u0645\", \"\\u0646\\u0642\\u0644 \\u0639\\u0641\\u0634\", \"\\u062a\\u0635\\u062f\\u0631 \\u0642\\u0631\\u0627\\u0631\", \"\\u0642\\u0631\\u0627\\u0631 \\u0631\\u0633\\u0645\\u064a\", \"\\u0645\\u0639\\u0627\\u0647\\u062f\\u0629 \\u0627\\u0644\\u062a\\u062c\\u0627\\u0631\\u0629\", \"\\u0645\\u0648\\u0642\\u0639\\u0629 \\u0639\\u0644\\u0649\", \"\\u0627\\u0644\\u062a\\u062c\\u0627\\u0631\\u0629 \\u0627\\u0644\\u062f\\u0648\\u0644\\u064a\\u0629\", \"\\u0639\\u0644\\u0649 \\u0645\\u0639\\u0627\\u0647\\u062f\\u0629\", \"\\u0627\\u0644\\u0625\\u062c\\u0627\\u0628\\u0629 \\u0627\\u0644\\u062f\\u0648\\u0644\\u0629\", \"\\u0627\\u0644\\u062f\\u0648\\u0644\\u0629 \\u0645\\u0627\", \"\\u064a\\u0633\\u0623\\u0644\\u0648\\u0646 \\u0644\\u064a\\u0647\", \"\\u0644\\u064a\\u0647 \\u0627\\u0644\\u062f\\u0648\\u0644\\u0629\", \"\\u0645\\u0642\\u0627\\u0637\\u0639\\u0629\\u0627\\u0644\\u0628\\u0636\\u0627\\u0626\\u0639\\u0627\\u0644\\u062a\\u0631\\u0643\\u064a\\u0629 \\u0644\\u064a\\u0647\", \"\\u0627\\u0644\\u062f\\u0648\\u0644\\u0629 \\u0645\\u0648\\u0642\\u0639\\u0629\", \"\\u062e\\u0644\\u0627\\u0635 \\u0627\\u0644\\u0625\\u062c\\u0627\\u0628\\u0629\", \"\\u0644\\u064a\\u0647 \\u0645\\u0642\\u0627\\u0637\\u0639\\u0629\\u0627\\u0644\\u0628\\u0636\\u0627\\u0626\\u0639\\u0627\\u0644\\u062a\\u0631\\u0643\\u064a\\u0629\", \"\\u0631\\u0633\\u0645\\u064a \\u062e\\u0644\\u0627\\u0635\", \"\\u0645\\u0627 \\u062a\\u0635\\u062f\\u0631\", \"\\u0639\\u0644\\u0649 \\u062a\\u0639\\u0632\\u064a\\u0632\", \"\\u0627\\u0646\\u0628\\u0627\\u0621 \\u0639\\u0646\", \"\\u0645\\u0642\\u0627\\u0637\\u0639\\u0629 \\u0634\\u0639\\u0628\\u064a\\u0629\", \"\\u0639\\u0646 \\u0645\\u0642\\u0627\\u0637\\u0639\\u0629\", \"\\u0627\\u0644\\u0642\\u0631\\u0622\\u0646 \\u0627\\u0644\\u0643\\u0631\\u064a\\u0645\", \"\\u0648\\u0627\\u0633\\u0639\\u0629 \\u0644\\u0644\\u0628\\u0636\\u0627\\u0626\\u0639\", \"\\u0634\\u0639\\u0628\\u064a\\u0629 \\u0648\\u0627\\u0633\\u0639\\u0629\", \"\\u0627\\u0644\\u062a\\u062c\\u0627\\u0631\\u0629 \\u0648\\u0633\\u0637\", \"\\u0648\\u0633\\u0637 \\u0627\\u0646\\u0628\\u0627\\u0621\", \"\\u062a\\u0639\\u0632\\u064a\\u0632 \\u0627\\u0644\\u062a\\u062c\\u0627\\u0631\\u0629\", \"\\u0644\\u0644\\u0628\\u0636\\u0627\\u0626\\u0639 \\u0627\\u0644\\u062a\\u0631\\u0643\\u064a\\u0629\", \"\\u0627\\u0643\\u0628\\u0631 \\u0634\\u0631\\u0643\\u0627\\u062a\", \"\\u062a\\u0637\\u0628\\u064a\\u0642 \\u0627\\u0644\\u0642\\u0627\\u0646\\u0648\\u0646\", \"\\u0648\\u0632\\u064a\\u0631 \\u0627\\u0644\\u0631\\u064a\\u0627\\u0636\\u0629\", \"\\u0648\\u0632\\u0627\\u0631\\u0629 \\u0627\\u0644\\u062a\\u062c\\u0627\\u0631\\u0629\", \"\\u0627\\u0644\\u0635\\u0644\\u0627\\u0629 \\u0648\\u0627\\u0644\\u0633\\u0644\\u0627\\u0645\", \"\\u0641\\u064a \\u0627\\u0633\\u0642\\u0627\\u0637\", \"\\u0627\\u0644\\u0631\\u064a\\u0627\\u0636\\u0629 \\u0641\\u064a\", \"\\u0627\\u0644\\u0645\\u0646\\u062a\\u062c\\u0627\\u062a \\u0627\\u0644\\u062a\\u0631\\u0643\\u064a\\u0629\", \"\\u0627\\u0644\\u0635\\u0644\\u0627\\u0629 \\u0639\\u0644\\u0649\", \"\\u0627\\u0644\\u0627\\u0642\\u062a\\u0635\\u0627\\u062f \\u0627\\u0644\\u062a\\u0631\\u0643\\u064a\", \"\\u0623\\u0646 \\u064a\\u0643\\u0648\\u0646\", \"\\u0641\\u064a \\u0627\\u0644\\u062a\\u0645\\u062b\\u064a\\u0644\", \"\\u0646\\u0634\\u062a\\u0631\\u0649\\u0627\\u0644\\u0627\\u062b\\u0627\\u062b\\u0627\\u0644\\u0645\\u0633\\u062a\\u0639\\u0645\\u0644\\u0628\\u0627\\u0644\\u0631\\u064a\\u0627\\u0636\\u0628\\u0623\\u0641\\u0636\\u0644\\u0627\\u0644\\u0627\\u0633\\u0639\\u0627\\u0631\\u063a\\u0631\\u0641\\u0645\\u0637\\u0627\\u0628\\u062e\\u0645\\u0643\\u064a\\u0641\\u0627\\u062a\\u0634\\u0631\\u0627\\u0621\\u0646\\u0642\\u0644\\u0639\\u0641\\u0634\\u0645\\u062d\\u0644\\u0628\\u064a\\u0639\\u0627\\u062b\\u0627\\u062b\\u0628\\u0627\\u0644\\u0631\\u064a\\u0627\\u0636\\u0634\\u0631\\u0627\\u0621\\u0627\\u062b\\u0627\\u062b\\u0645\\u0633\\u062a\\u0639\\u0645\\u0644 \\u0628\\u0627\\u0644\\u0631\\u064a\\u0627\\u0636\", \"\\u0627\\u0644\\u0644\\u0647 \\u0641\\u064a\", \"\\u0639\\u0644\\u0649 \\u0627\\u0644\\u0646\\u0628\\u064a\", \"\\u0627\\u062d\\u0645\\u062f \\u0641\\u0647\\u0645\\u064a\", \"\\u0634\\u0627\\u0621 \\u0627\\u0644\\u0644\\u0647\", \"\\u0634\\u0631\\u0627\\u0621 \\u0627\\u062b\\u0627\\u062b\", \"\\u0627\\u062b\\u0627\\u062b \\u0645\\u0633\\u062a\\u0639\\u0645\\u0644\", \"\\u0627\\u0644\\u062f\\u0648\\u0631\\u064a \\u0627\\u0644\\u0645\\u0645\\u062a\\u0627\\u0632\", \"\\u0641\\u064a \\u0643\\u0631\\u0629\", \"\\u0627\\u0644\\u062d\\u0643\\u0648\\u0645\\u0629 \\u0627\\u0644\\u0633\\u0639\\u0648\\u062f\\u064a\\u0629\", \"\\u0641\\u064a \\u0639\\u0627\\u0645\\u0647\\u0627\", \"\\u0645\\u0646 \\u0648\\u0636\\u0639\", \"\\u0643\\u0644 \\u0627\\u0644\\u062a\\u062d\\u064a\\u0629\", \"\\u0648\\u0636\\u0639 \\u062c\\u062f\\u0648\\u0644\", \"\\u0627\\u0644\\u0632\\u0645\\u0627\\u0644\\u0643 \\u0639\\u0644\\u064a\", \"\\u0627\\u0644\\u062a\\u062d\\u064a\\u0629 \\u0648\\u0627\\u0644\\u062a\\u0642\\u062f\\u064a\\u0631\", \"\\u064a\\u0643\\u0648\\u0646 \\u0645\\u0627\\u0631\\u0633\", \"\\u0627\\u0644\\u0642\\u0627\\u0646\\u0648\\u0646 \\u0627\\u0644\\u0646\\u0641\\u0637\\u064a\", \"\\u0627\\u0644\\u0643\\u0628\\u064a\\u0631 \\u0627\\u0644\\u0645\\u0628\\u0630\\u0648\\u0644\", \"\\u0648\\u0627\\u0644\\u062a\\u0642\\u062f\\u064a\\u0631 \\u0644\\u0644\\u0627\\u0639\\u0628\\u064a\", \"\\u0645\\u0627\\u0631\\u0633 \\u0643\\u0631\\u0629\", \"\\u0644\\u0644\\u0627\\u0639\\u0628\\u064a \\u0627\\u0644\\u0632\\u0645\\u0627\\u0644\\u0643\", \"\\u0641\\u064a \\u0627\\u0644\\u0628\\u064a\\u062a\", \"\\u0639\\u0644\\u064a \\u0627\\u0644\\u0645\\u062c\\u0647\\u0648\\u062f\", \"\\u0623\\u062a\\u062d\\u062f\\u064a \\u0645\\u0646\", \"\\u062c\\u062f\\u0648\\u0644 \\u0627\\u0644\\u062f\\u0648\\u0631\\u064a\", \"\\u0627\\u0644\\u0645\\u0645\\u062a\\u0627\\u0632 \\u0623\\u0646\", \"\\u0627\\u0644\\u0645\\u062c\\u0647\\u0648\\u062f \\u0627\\u0644\\u0643\\u0628\\u064a\\u0631\", \"\\u0627\\u0644\\u0645\\u0628\\u0630\\u0648\\u0644 \\u0623\\u062a\\u062d\\u062f\\u064a\", \"\\u0631\\u062d\\u0645\\u0647 \\u0627\\u0644\\u0644\\u0647\", \"\\u0631\\u0627\\u064a\\u062d\\u0629 \\u062a\\u0634\\u062a\\u0631\\u064a\", \"\\u062e\\u064a\\u0627\\u0631 \\u0648\\u0628\\u0635\\u0644\", \"\\u062a\\u0634\\u062a\\u0631\\u064a \\u062e\\u064a\\u0627\\u0631\", \"\\u0645\\u0633\\u0644\\u0645\\u0629 \\u0631\\u0627\\u064a\\u062d\\u0629\", \"\\u0648\\u0628\\u0635\\u0644 \\u0648\\u0628\\u0627\\u0644\\u0635\\u062f\\u0641\\u0629\", \"\\u0648\\u062d\\u062f\\u0629 \\u0645\\u0633\\u0644\\u0645\\u0629\"], \"y\": [1549, 789, 611, 562, 561, 553, 552, 550, 549, 546, 546, 543, 543, 521, 511, 511, 391, 388, 387, 387, 387, 387, 387, 387, 379, 375, 369, 368, 367, 367, 367, 366, 366, 366, 366, 366, 366, 366, 366, 366, 366, 351, 349, 348, 348, 348, 348, 348, 348, 348, 348, 348, 347, 342, 334, 323, 309, 305, 301, 294, 294, 293, 283, 250, 248, 245, 237, 228, 222, 219, 209, 209, 208, 207, 207, 205, 204, 204, 202, 202, 202, 202, 202, 202, 202, 202, 202, 202, 202, 202, 202, 202, 202, 196, 194, 193, 193, 193, 193, 193]}],\n",
       "                        {\"legend\": {\"bgcolor\": \"#F5F6F9\", \"font\": {\"color\": \"#4D5663\"}}, \"paper_bgcolor\": \"#F5F6F9\", \"plot_bgcolor\": \"#F5F6F9\", \"template\": {\"data\": {\"bar\": [{\"error_x\": {\"color\": \"#2a3f5f\"}, \"error_y\": {\"color\": \"#2a3f5f\"}, \"marker\": {\"line\": {\"color\": \"#E5ECF6\", \"width\": 0.5}}, \"type\": \"bar\"}], \"barpolar\": [{\"marker\": {\"line\": {\"color\": \"#E5ECF6\", \"width\": 0.5}}, \"type\": \"barpolar\"}], \"carpet\": [{\"aaxis\": {\"endlinecolor\": \"#2a3f5f\", \"gridcolor\": \"white\", \"linecolor\": \"white\", \"minorgridcolor\": \"white\", \"startlinecolor\": \"#2a3f5f\"}, \"baxis\": {\"endlinecolor\": \"#2a3f5f\", \"gridcolor\": \"white\", \"linecolor\": \"white\", \"minorgridcolor\": \"white\", \"startlinecolor\": \"#2a3f5f\"}, \"type\": \"carpet\"}], \"choropleth\": [{\"colorbar\": {\"outlinewidth\": 0, \"ticks\": \"\"}, \"type\": \"choropleth\"}], \"contour\": [{\"colorbar\": {\"outlinewidth\": 0, \"ticks\": \"\"}, \"colorscale\": [[0.0, \"#0d0887\"], [0.1111111111111111, \"#46039f\"], [0.2222222222222222, \"#7201a8\"], [0.3333333333333333, \"#9c179e\"], [0.4444444444444444, \"#bd3786\"], [0.5555555555555556, \"#d8576b\"], [0.6666666666666666, \"#ed7953\"], [0.7777777777777778, \"#fb9f3a\"], [0.8888888888888888, \"#fdca26\"], [1.0, \"#f0f921\"]], \"type\": \"contour\"}], \"contourcarpet\": [{\"colorbar\": {\"outlinewidth\": 0, \"ticks\": \"\"}, \"type\": \"contourcarpet\"}], \"heatmap\": [{\"colorbar\": {\"outlinewidth\": 0, \"ticks\": \"\"}, \"colorscale\": [[0.0, \"#0d0887\"], [0.1111111111111111, \"#46039f\"], [0.2222222222222222, \"#7201a8\"], [0.3333333333333333, \"#9c179e\"], [0.4444444444444444, \"#bd3786\"], [0.5555555555555556, \"#d8576b\"], [0.6666666666666666, \"#ed7953\"], [0.7777777777777778, \"#fb9f3a\"], [0.8888888888888888, \"#fdca26\"], [1.0, \"#f0f921\"]], \"type\": \"heatmap\"}], \"heatmapgl\": [{\"colorbar\": {\"outlinewidth\": 0, \"ticks\": \"\"}, \"colorscale\": [[0.0, \"#0d0887\"], [0.1111111111111111, \"#46039f\"], [0.2222222222222222, \"#7201a8\"], [0.3333333333333333, \"#9c179e\"], [0.4444444444444444, \"#bd3786\"], [0.5555555555555556, \"#d8576b\"], [0.6666666666666666, \"#ed7953\"], [0.7777777777777778, \"#fb9f3a\"], [0.8888888888888888, \"#fdca26\"], [1.0, \"#f0f921\"]], \"type\": \"heatmapgl\"}], \"histogram\": [{\"marker\": {\"colorbar\": {\"outlinewidth\": 0, \"ticks\": \"\"}}, \"type\": \"histogram\"}], \"histogram2d\": [{\"colorbar\": {\"outlinewidth\": 0, \"ticks\": \"\"}, \"colorscale\": [[0.0, \"#0d0887\"], [0.1111111111111111, \"#46039f\"], [0.2222222222222222, \"#7201a8\"], [0.3333333333333333, \"#9c179e\"], [0.4444444444444444, \"#bd3786\"], [0.5555555555555556, \"#d8576b\"], [0.6666666666666666, \"#ed7953\"], [0.7777777777777778, \"#fb9f3a\"], [0.8888888888888888, \"#fdca26\"], [1.0, \"#f0f921\"]], \"type\": \"histogram2d\"}], \"histogram2dcontour\": [{\"colorbar\": {\"outlinewidth\": 0, \"ticks\": \"\"}, \"colorscale\": [[0.0, \"#0d0887\"], [0.1111111111111111, \"#46039f\"], [0.2222222222222222, \"#7201a8\"], [0.3333333333333333, \"#9c179e\"], [0.4444444444444444, \"#bd3786\"], [0.5555555555555556, \"#d8576b\"], [0.6666666666666666, \"#ed7953\"], [0.7777777777777778, \"#fb9f3a\"], [0.8888888888888888, \"#fdca26\"], [1.0, \"#f0f921\"]], \"type\": \"histogram2dcontour\"}], \"mesh3d\": [{\"colorbar\": {\"outlinewidth\": 0, \"ticks\": \"\"}, \"type\": \"mesh3d\"}], \"parcoords\": [{\"line\": {\"colorbar\": {\"outlinewidth\": 0, \"ticks\": \"\"}}, \"type\": \"parcoords\"}], \"pie\": [{\"automargin\": true, \"type\": \"pie\"}], \"scatter\": [{\"marker\": {\"colorbar\": {\"outlinewidth\": 0, \"ticks\": \"\"}}, \"type\": \"scatter\"}], \"scatter3d\": [{\"line\": {\"colorbar\": {\"outlinewidth\": 0, \"ticks\": \"\"}}, \"marker\": {\"colorbar\": {\"outlinewidth\": 0, \"ticks\": \"\"}}, \"type\": \"scatter3d\"}], \"scattercarpet\": [{\"marker\": {\"colorbar\": {\"outlinewidth\": 0, \"ticks\": \"\"}}, \"type\": \"scattercarpet\"}], \"scattergeo\": [{\"marker\": {\"colorbar\": {\"outlinewidth\": 0, \"ticks\": \"\"}}, \"type\": \"scattergeo\"}], \"scattergl\": [{\"marker\": {\"colorbar\": {\"outlinewidth\": 0, \"ticks\": \"\"}}, \"type\": \"scattergl\"}], \"scattermapbox\": [{\"marker\": {\"colorbar\": {\"outlinewidth\": 0, \"ticks\": \"\"}}, \"type\": \"scattermapbox\"}], \"scatterpolar\": [{\"marker\": {\"colorbar\": {\"outlinewidth\": 0, \"ticks\": \"\"}}, \"type\": \"scatterpolar\"}], \"scatterpolargl\": [{\"marker\": {\"colorbar\": {\"outlinewidth\": 0, \"ticks\": \"\"}}, \"type\": \"scatterpolargl\"}], \"scatterternary\": [{\"marker\": {\"colorbar\": {\"outlinewidth\": 0, \"ticks\": \"\"}}, \"type\": \"scatterternary\"}], \"surface\": [{\"colorbar\": {\"outlinewidth\": 0, \"ticks\": \"\"}, \"colorscale\": [[0.0, \"#0d0887\"], [0.1111111111111111, \"#46039f\"], [0.2222222222222222, \"#7201a8\"], [0.3333333333333333, \"#9c179e\"], [0.4444444444444444, \"#bd3786\"], [0.5555555555555556, \"#d8576b\"], [0.6666666666666666, \"#ed7953\"], [0.7777777777777778, \"#fb9f3a\"], [0.8888888888888888, \"#fdca26\"], [1.0, \"#f0f921\"]], \"type\": \"surface\"}], \"table\": [{\"cells\": {\"fill\": {\"color\": \"#EBF0F8\"}, \"line\": {\"color\": \"white\"}}, \"header\": {\"fill\": {\"color\": \"#C8D4E3\"}, \"line\": {\"color\": \"white\"}}, \"type\": \"table\"}]}, \"layout\": {\"annotationdefaults\": {\"arrowcolor\": \"#2a3f5f\", \"arrowhead\": 0, \"arrowwidth\": 1}, \"coloraxis\": {\"colorbar\": {\"outlinewidth\": 0, \"ticks\": \"\"}}, \"colorscale\": {\"diverging\": [[0, \"#8e0152\"], [0.1, \"#c51b7d\"], [0.2, \"#de77ae\"], [0.3, \"#f1b6da\"], [0.4, \"#fde0ef\"], [0.5, \"#f7f7f7\"], [0.6, \"#e6f5d0\"], [0.7, \"#b8e186\"], [0.8, \"#7fbc41\"], [0.9, \"#4d9221\"], [1, \"#276419\"]], \"sequential\": [[0.0, \"#0d0887\"], [0.1111111111111111, \"#46039f\"], [0.2222222222222222, \"#7201a8\"], [0.3333333333333333, \"#9c179e\"], [0.4444444444444444, \"#bd3786\"], [0.5555555555555556, \"#d8576b\"], [0.6666666666666666, \"#ed7953\"], [0.7777777777777778, \"#fb9f3a\"], [0.8888888888888888, \"#fdca26\"], [1.0, \"#f0f921\"]], \"sequentialminus\": [[0.0, \"#0d0887\"], [0.1111111111111111, \"#46039f\"], [0.2222222222222222, \"#7201a8\"], [0.3333333333333333, \"#9c179e\"], [0.4444444444444444, \"#bd3786\"], [0.5555555555555556, \"#d8576b\"], [0.6666666666666666, \"#ed7953\"], [0.7777777777777778, \"#fb9f3a\"], [0.8888888888888888, \"#fdca26\"], [1.0, \"#f0f921\"]]}, \"colorway\": [\"#636efa\", \"#EF553B\", \"#00cc96\", \"#ab63fa\", \"#FFA15A\", \"#19d3f3\", \"#FF6692\", \"#B6E880\", \"#FF97FF\", \"#FECB52\"], \"font\": {\"color\": \"#2a3f5f\"}, \"geo\": {\"bgcolor\": \"white\", \"lakecolor\": \"white\", \"landcolor\": \"#E5ECF6\", \"showlakes\": true, \"showland\": true, \"subunitcolor\": \"white\"}, \"hoverlabel\": {\"align\": \"left\"}, \"hovermode\": \"closest\", \"mapbox\": {\"style\": \"light\"}, \"paper_bgcolor\": \"white\", \"plot_bgcolor\": \"#E5ECF6\", \"polar\": {\"angularaxis\": {\"gridcolor\": \"white\", \"linecolor\": \"white\", \"ticks\": \"\"}, \"bgcolor\": \"#E5ECF6\", \"radialaxis\": {\"gridcolor\": \"white\", \"linecolor\": \"white\", \"ticks\": \"\"}}, \"scene\": {\"xaxis\": {\"backgroundcolor\": \"#E5ECF6\", \"gridcolor\": \"white\", \"gridwidth\": 2, \"linecolor\": \"white\", \"showbackground\": true, \"ticks\": \"\", \"zerolinecolor\": \"white\"}, \"yaxis\": {\"backgroundcolor\": \"#E5ECF6\", \"gridcolor\": \"white\", \"gridwidth\": 2, \"linecolor\": \"white\", \"showbackground\": true, \"ticks\": \"\", \"zerolinecolor\": \"white\"}, \"zaxis\": {\"backgroundcolor\": \"#E5ECF6\", \"gridcolor\": \"white\", \"gridwidth\": 2, \"linecolor\": \"white\", \"showbackground\": true, \"ticks\": \"\", \"zerolinecolor\": \"white\"}}, \"shapedefaults\": {\"line\": {\"color\": \"#2a3f5f\"}}, \"ternary\": {\"aaxis\": {\"gridcolor\": \"white\", \"linecolor\": \"white\", \"ticks\": \"\"}, \"baxis\": {\"gridcolor\": \"white\", \"linecolor\": \"white\", \"ticks\": \"\"}, \"bgcolor\": \"#E5ECF6\", \"caxis\": {\"gridcolor\": \"white\", \"linecolor\": \"white\", \"ticks\": \"\"}}, \"title\": {\"x\": 0.05}, \"xaxis\": {\"automargin\": true, \"gridcolor\": \"white\", \"linecolor\": \"white\", \"ticks\": \"\", \"title\": {\"standoff\": 15}, \"zerolinecolor\": \"white\", \"zerolinewidth\": 2}, \"yaxis\": {\"automargin\": true, \"gridcolor\": \"white\", \"linecolor\": \"white\", \"ticks\": \"\", \"title\": {\"standoff\": 15}, \"zerolinecolor\": \"white\", \"zerolinewidth\": 2}}}, \"title\": {\"font\": {\"color\": \"#4D5663\"}, \"text\": \"top 100 bigrams in text\"}, \"xaxis\": {\"gridcolor\": \"#E1E5ED\", \"linecolor\": \"black\", \"showgrid\": true, \"tickfont\": {\"color\": \"#4D5663\"}, \"title\": {\"font\": {\"color\": \"#4D5663\"}, \"text\": \"\"}, \"zerolinecolor\": \"#E1E5ED\"}, \"yaxis\": {\"gridcolor\": \"#E1E5ED\", \"linecolor\": \"black\", \"showgrid\": true, \"tickfont\": {\"color\": \"#4D5663\"}, \"title\": {\"font\": {\"color\": \"#4D5663\"}, \"text\": \"Count\"}, \"zerolinecolor\": \"#E1E5ED\"}},\n",
       "                        {\"showLink\": true, \"linkText\": \"Export to plot.ly\", \"plotlyServerURL\": \"https://plot.ly\", \"responsive\": true}\n",
       "                    ).then(function(){\n",
       "                            \n",
       "var gd = document.getElementById('df0afc6c-60d2-4fda-859b-0ebfe785379e');\n",
       "var x = new MutationObserver(function (mutations, observer) {{\n",
       "        var display = window.getComputedStyle(gd).display;\n",
       "        if (!display || display === 'none') {{\n",
       "            console.log([gd, 'removed!']);\n",
       "            Plotly.purge(gd);\n",
       "            observer.disconnect();\n",
       "        }}\n",
       "}});\n",
       "\n",
       "// Listen for the removal of the full notebook cells\n",
       "var notebookContainer = gd.closest('#notebook-container');\n",
       "if (notebookContainer) {{\n",
       "    x.observe(notebookContainer, {childList: true});\n",
       "}}\n",
       "\n",
       "// Listen for the clearing of the current output cell\n",
       "var outputEl = gd.closest('.output');\n",
       "if (outputEl) {{\n",
       "    x.observe(outputEl, {childList: true});\n",
       "}}\n",
       "\n",
       "                        })\n",
       "                };\n",
       "                });\n",
       "            </script>\n",
       "        </div>"
      ]
     },
     "metadata": {},
     "output_type": "display_data"
    }
   ],
   "source": [
    "import cufflinks as cf\n",
    "cf.go_offline()\n",
    "cf.set_config_file(offline=False, world_readable=True)\n",
    "df_bigrams.groupby('word').sum()['count'].sort_values(ascending=False).iplot(\n",
    "    kind='bar', yTitle='Count', linecolor='black', title='top 100 bigrams in text')"
   ]
  },
  {
   "cell_type": "markdown",
   "metadata": {},
   "source": [
    "\n",
    " <center><h1>Trigrams By Counts </h1></center>"
   ]
  },
  {
   "cell_type": "code",
   "execution_count": 7,
   "metadata": {},
   "outputs": [
    {
     "data": {
      "text/html": [
       "<div>\n",
       "<style scoped>\n",
       "    .dataframe tbody tr th:only-of-type {\n",
       "        vertical-align: middle;\n",
       "    }\n",
       "\n",
       "    .dataframe tbody tr th {\n",
       "        vertical-align: top;\n",
       "    }\n",
       "\n",
       "    .dataframe thead th {\n",
       "        text-align: right;\n",
       "    }\n",
       "</style>\n",
       "<table border=\"1\" class=\"dataframe\">\n",
       "  <thead>\n",
       "    <tr style=\"text-align: right;\">\n",
       "      <th></th>\n",
       "      <th>word</th>\n",
       "      <th>count</th>\n",
       "    </tr>\n",
       "  </thead>\n",
       "  <tbody>\n",
       "    <tr>\n",
       "      <th>0</th>\n",
       "      <td>أعوذ بك من</td>\n",
       "      <td>562</td>\n",
       "    </tr>\n",
       "    <tr>\n",
       "      <th>1</th>\n",
       "      <td>إني أعوذ بك</td>\n",
       "      <td>561</td>\n",
       "    </tr>\n",
       "    <tr>\n",
       "      <th>2</th>\n",
       "      <td>بك من الهم</td>\n",
       "      <td>552</td>\n",
       "    </tr>\n",
       "    <tr>\n",
       "      <th>3</th>\n",
       "      <td>من الهم والحزن</td>\n",
       "      <td>549</td>\n",
       "    </tr>\n",
       "    <tr>\n",
       "      <th>4</th>\n",
       "      <td>والحزن والعجز والكسل</td>\n",
       "      <td>546</td>\n",
       "    </tr>\n",
       "    <tr>\n",
       "      <th>5</th>\n",
       "      <td>الهم والحزن والعجز</td>\n",
       "      <td>545</td>\n",
       "    </tr>\n",
       "    <tr>\n",
       "      <th>6</th>\n",
       "      <td>والعجز والكسل والجبن</td>\n",
       "      <td>543</td>\n",
       "    </tr>\n",
       "    <tr>\n",
       "      <th>7</th>\n",
       "      <td>والكسل والجبن والبخل</td>\n",
       "      <td>542</td>\n",
       "    </tr>\n",
       "    <tr>\n",
       "      <th>8</th>\n",
       "      <td>اللهم إني أعوذ</td>\n",
       "      <td>533</td>\n",
       "    </tr>\n",
       "    <tr>\n",
       "      <th>9</th>\n",
       "      <td>الدين وقهر الرجال</td>\n",
       "      <td>521</td>\n",
       "    </tr>\n",
       "    <tr>\n",
       "      <th>10</th>\n",
       "      <td>والجبن والبخل وغلبة</td>\n",
       "      <td>511</td>\n",
       "    </tr>\n",
       "    <tr>\n",
       "      <th>11</th>\n",
       "      <td>والبخل وغلبة الدين</td>\n",
       "      <td>511</td>\n",
       "    </tr>\n",
       "    <tr>\n",
       "      <th>12</th>\n",
       "      <td>وغلبة الدين وقهر</td>\n",
       "      <td>511</td>\n",
       "    </tr>\n",
       "    <tr>\n",
       "      <th>13</th>\n",
       "      <td>شركات تركية ارسلت</td>\n",
       "      <td>387</td>\n",
       "    </tr>\n",
       "    <tr>\n",
       "      <th>14</th>\n",
       "      <td>تركية ارسلت اليوم</td>\n",
       "      <td>387</td>\n",
       "    </tr>\n",
       "    <tr>\n",
       "      <th>15</th>\n",
       "      <td>ارسلت اليوم خطاب</td>\n",
       "      <td>387</td>\n",
       "    </tr>\n",
       "    <tr>\n",
       "      <th>16</th>\n",
       "      <td>اليوم خطاب للسعودية</td>\n",
       "      <td>387</td>\n",
       "    </tr>\n",
       "    <tr>\n",
       "      <th>17</th>\n",
       "      <td>خطاب للسعودية تطالبها</td>\n",
       "      <td>387</td>\n",
       "    </tr>\n",
       "    <tr>\n",
       "      <th>18</th>\n",
       "      <td>تطالبها بالعمل على</td>\n",
       "      <td>387</td>\n",
       "    </tr>\n",
       "    <tr>\n",
       "      <th>19</th>\n",
       "      <td>للسعودية تطالبها بالعمل</td>\n",
       "      <td>386</td>\n",
       "    </tr>\n",
       "  </tbody>\n",
       "</table>\n",
       "</div>"
      ],
      "text/plain": [
       "                       word  count\n",
       "0                أعوذ بك من    562\n",
       "1               إني أعوذ بك    561\n",
       "2                بك من الهم    552\n",
       "3            من الهم والحزن    549\n",
       "4      والحزن والعجز والكسل    546\n",
       "5        الهم والحزن والعجز    545\n",
       "6      والعجز والكسل والجبن    543\n",
       "7      والكسل والجبن والبخل    542\n",
       "8            اللهم إني أعوذ    533\n",
       "9         الدين وقهر الرجال    521\n",
       "10      والجبن والبخل وغلبة    511\n",
       "11       والبخل وغلبة الدين    511\n",
       "12         وغلبة الدين وقهر    511\n",
       "13        شركات تركية ارسلت    387\n",
       "14        تركية ارسلت اليوم    387\n",
       "15         ارسلت اليوم خطاب    387\n",
       "16      اليوم خطاب للسعودية    387\n",
       "17    خطاب للسعودية تطالبها    387\n",
       "18       تطالبها بالعمل على    387\n",
       "19  للسعودية تطالبها بالعمل    386"
      ]
     },
     "execution_count": 7,
     "metadata": {},
     "output_type": "execute_result"
    }
   ],
   "source": [
    "def top_n_words(corpus, n=None):\n",
    "    vect = CountVectorizer(ngram_range=(3, 3)).fit(corpus)\n",
    "    bag_of_words = vect.transform(corpus)\n",
    "    sum_words = bag_of_words.sum(axis=0) \n",
    "    words_freq = [(word, sum_words[0, idx]) for word, idx in vect.vocabulary_.items()]\n",
    "    words_freq =sorted(words_freq, key = lambda x: x[1], reverse=True)\n",
    "    return words_freq[:n]\n",
    "common_words = top_n_words(df2['text'],20)\n",
    "#for word, count in common_words:\n",
    "    \n",
    "    #print(word, count)\n",
    "df_trigram = pd.DataFrame(common_words, columns = ['word' , 'count'])\n",
    "df_trigram.head(20)\n",
    "#df_trigram.to_excel('df_trigram.xlsx')"
   ]
  },
  {
   "cell_type": "code",
   "execution_count": 8,
   "metadata": {},
   "outputs": [
    {
     "data": {
      "application/vnd.plotly.v1+json": {
       "config": {
        "linkText": "Export to plot.ly",
        "plotlyServerURL": "https://plot.ly",
        "showLink": true
       },
       "data": [
        {
         "marker": {
          "color": "rgba(255, 153, 51, 0.6)",
          "line": {
           "color": "rgba(255, 153, 51, 1.0)",
           "width": 1
          }
         },
         "name": "count",
         "orientation": "v",
         "text": "",
         "type": "bar",
         "x": [
          "أعوذ بك من",
          "إني أعوذ بك",
          "بك من الهم",
          "من الهم والحزن",
          "والحزن والعجز والكسل",
          "الهم والحزن والعجز",
          "والعجز والكسل والجبن",
          "والكسل والجبن والبخل",
          "اللهم إني أعوذ",
          "الدين وقهر الرجال",
          "وغلبة الدين وقهر",
          "والبخل وغلبة الدين",
          "والجبن والبخل وغلبة",
          "تركية ارسلت اليوم",
          "خطاب للسعودية تطالبها",
          "اليوم خطاب للسعودية",
          "شركات تركية ارسلت",
          "ارسلت اليوم خطاب",
          "تطالبها بالعمل على",
          "للسعودية تطالبها بالعمل"
         ],
         "y": [
          562,
          561,
          552,
          549,
          546,
          545,
          543,
          542,
          533,
          521,
          511,
          511,
          511,
          387,
          387,
          387,
          387,
          387,
          387,
          386
         ]
        }
       ],
       "layout": {
        "legend": {
         "bgcolor": "#F5F6F9",
         "font": {
          "color": "#4D5663"
         }
        },
        "paper_bgcolor": "#F5F6F9",
        "plot_bgcolor": "#F5F6F9",
        "template": {
         "data": {
          "bar": [
           {
            "error_x": {
             "color": "#2a3f5f"
            },
            "error_y": {
             "color": "#2a3f5f"
            },
            "marker": {
             "line": {
              "color": "#E5ECF6",
              "width": 0.5
             }
            },
            "type": "bar"
           }
          ],
          "barpolar": [
           {
            "marker": {
             "line": {
              "color": "#E5ECF6",
              "width": 0.5
             }
            },
            "type": "barpolar"
           }
          ],
          "carpet": [
           {
            "aaxis": {
             "endlinecolor": "#2a3f5f",
             "gridcolor": "white",
             "linecolor": "white",
             "minorgridcolor": "white",
             "startlinecolor": "#2a3f5f"
            },
            "baxis": {
             "endlinecolor": "#2a3f5f",
             "gridcolor": "white",
             "linecolor": "white",
             "minorgridcolor": "white",
             "startlinecolor": "#2a3f5f"
            },
            "type": "carpet"
           }
          ],
          "choropleth": [
           {
            "colorbar": {
             "outlinewidth": 0,
             "ticks": ""
            },
            "type": "choropleth"
           }
          ],
          "contour": [
           {
            "colorbar": {
             "outlinewidth": 0,
             "ticks": ""
            },
            "colorscale": [
             [
              0,
              "#0d0887"
             ],
             [
              0.1111111111111111,
              "#46039f"
             ],
             [
              0.2222222222222222,
              "#7201a8"
             ],
             [
              0.3333333333333333,
              "#9c179e"
             ],
             [
              0.4444444444444444,
              "#bd3786"
             ],
             [
              0.5555555555555556,
              "#d8576b"
             ],
             [
              0.6666666666666666,
              "#ed7953"
             ],
             [
              0.7777777777777778,
              "#fb9f3a"
             ],
             [
              0.8888888888888888,
              "#fdca26"
             ],
             [
              1,
              "#f0f921"
             ]
            ],
            "type": "contour"
           }
          ],
          "contourcarpet": [
           {
            "colorbar": {
             "outlinewidth": 0,
             "ticks": ""
            },
            "type": "contourcarpet"
           }
          ],
          "heatmap": [
           {
            "colorbar": {
             "outlinewidth": 0,
             "ticks": ""
            },
            "colorscale": [
             [
              0,
              "#0d0887"
             ],
             [
              0.1111111111111111,
              "#46039f"
             ],
             [
              0.2222222222222222,
              "#7201a8"
             ],
             [
              0.3333333333333333,
              "#9c179e"
             ],
             [
              0.4444444444444444,
              "#bd3786"
             ],
             [
              0.5555555555555556,
              "#d8576b"
             ],
             [
              0.6666666666666666,
              "#ed7953"
             ],
             [
              0.7777777777777778,
              "#fb9f3a"
             ],
             [
              0.8888888888888888,
              "#fdca26"
             ],
             [
              1,
              "#f0f921"
             ]
            ],
            "type": "heatmap"
           }
          ],
          "heatmapgl": [
           {
            "colorbar": {
             "outlinewidth": 0,
             "ticks": ""
            },
            "colorscale": [
             [
              0,
              "#0d0887"
             ],
             [
              0.1111111111111111,
              "#46039f"
             ],
             [
              0.2222222222222222,
              "#7201a8"
             ],
             [
              0.3333333333333333,
              "#9c179e"
             ],
             [
              0.4444444444444444,
              "#bd3786"
             ],
             [
              0.5555555555555556,
              "#d8576b"
             ],
             [
              0.6666666666666666,
              "#ed7953"
             ],
             [
              0.7777777777777778,
              "#fb9f3a"
             ],
             [
              0.8888888888888888,
              "#fdca26"
             ],
             [
              1,
              "#f0f921"
             ]
            ],
            "type": "heatmapgl"
           }
          ],
          "histogram": [
           {
            "marker": {
             "colorbar": {
              "outlinewidth": 0,
              "ticks": ""
             }
            },
            "type": "histogram"
           }
          ],
          "histogram2d": [
           {
            "colorbar": {
             "outlinewidth": 0,
             "ticks": ""
            },
            "colorscale": [
             [
              0,
              "#0d0887"
             ],
             [
              0.1111111111111111,
              "#46039f"
             ],
             [
              0.2222222222222222,
              "#7201a8"
             ],
             [
              0.3333333333333333,
              "#9c179e"
             ],
             [
              0.4444444444444444,
              "#bd3786"
             ],
             [
              0.5555555555555556,
              "#d8576b"
             ],
             [
              0.6666666666666666,
              "#ed7953"
             ],
             [
              0.7777777777777778,
              "#fb9f3a"
             ],
             [
              0.8888888888888888,
              "#fdca26"
             ],
             [
              1,
              "#f0f921"
             ]
            ],
            "type": "histogram2d"
           }
          ],
          "histogram2dcontour": [
           {
            "colorbar": {
             "outlinewidth": 0,
             "ticks": ""
            },
            "colorscale": [
             [
              0,
              "#0d0887"
             ],
             [
              0.1111111111111111,
              "#46039f"
             ],
             [
              0.2222222222222222,
              "#7201a8"
             ],
             [
              0.3333333333333333,
              "#9c179e"
             ],
             [
              0.4444444444444444,
              "#bd3786"
             ],
             [
              0.5555555555555556,
              "#d8576b"
             ],
             [
              0.6666666666666666,
              "#ed7953"
             ],
             [
              0.7777777777777778,
              "#fb9f3a"
             ],
             [
              0.8888888888888888,
              "#fdca26"
             ],
             [
              1,
              "#f0f921"
             ]
            ],
            "type": "histogram2dcontour"
           }
          ],
          "mesh3d": [
           {
            "colorbar": {
             "outlinewidth": 0,
             "ticks": ""
            },
            "type": "mesh3d"
           }
          ],
          "parcoords": [
           {
            "line": {
             "colorbar": {
              "outlinewidth": 0,
              "ticks": ""
             }
            },
            "type": "parcoords"
           }
          ],
          "pie": [
           {
            "automargin": true,
            "type": "pie"
           }
          ],
          "scatter": [
           {
            "marker": {
             "colorbar": {
              "outlinewidth": 0,
              "ticks": ""
             }
            },
            "type": "scatter"
           }
          ],
          "scatter3d": [
           {
            "line": {
             "colorbar": {
              "outlinewidth": 0,
              "ticks": ""
             }
            },
            "marker": {
             "colorbar": {
              "outlinewidth": 0,
              "ticks": ""
             }
            },
            "type": "scatter3d"
           }
          ],
          "scattercarpet": [
           {
            "marker": {
             "colorbar": {
              "outlinewidth": 0,
              "ticks": ""
             }
            },
            "type": "scattercarpet"
           }
          ],
          "scattergeo": [
           {
            "marker": {
             "colorbar": {
              "outlinewidth": 0,
              "ticks": ""
             }
            },
            "type": "scattergeo"
           }
          ],
          "scattergl": [
           {
            "marker": {
             "colorbar": {
              "outlinewidth": 0,
              "ticks": ""
             }
            },
            "type": "scattergl"
           }
          ],
          "scattermapbox": [
           {
            "marker": {
             "colorbar": {
              "outlinewidth": 0,
              "ticks": ""
             }
            },
            "type": "scattermapbox"
           }
          ],
          "scatterpolar": [
           {
            "marker": {
             "colorbar": {
              "outlinewidth": 0,
              "ticks": ""
             }
            },
            "type": "scatterpolar"
           }
          ],
          "scatterpolargl": [
           {
            "marker": {
             "colorbar": {
              "outlinewidth": 0,
              "ticks": ""
             }
            },
            "type": "scatterpolargl"
           }
          ],
          "scatterternary": [
           {
            "marker": {
             "colorbar": {
              "outlinewidth": 0,
              "ticks": ""
             }
            },
            "type": "scatterternary"
           }
          ],
          "surface": [
           {
            "colorbar": {
             "outlinewidth": 0,
             "ticks": ""
            },
            "colorscale": [
             [
              0,
              "#0d0887"
             ],
             [
              0.1111111111111111,
              "#46039f"
             ],
             [
              0.2222222222222222,
              "#7201a8"
             ],
             [
              0.3333333333333333,
              "#9c179e"
             ],
             [
              0.4444444444444444,
              "#bd3786"
             ],
             [
              0.5555555555555556,
              "#d8576b"
             ],
             [
              0.6666666666666666,
              "#ed7953"
             ],
             [
              0.7777777777777778,
              "#fb9f3a"
             ],
             [
              0.8888888888888888,
              "#fdca26"
             ],
             [
              1,
              "#f0f921"
             ]
            ],
            "type": "surface"
           }
          ],
          "table": [
           {
            "cells": {
             "fill": {
              "color": "#EBF0F8"
             },
             "line": {
              "color": "white"
             }
            },
            "header": {
             "fill": {
              "color": "#C8D4E3"
             },
             "line": {
              "color": "white"
             }
            },
            "type": "table"
           }
          ]
         },
         "layout": {
          "annotationdefaults": {
           "arrowcolor": "#2a3f5f",
           "arrowhead": 0,
           "arrowwidth": 1
          },
          "coloraxis": {
           "colorbar": {
            "outlinewidth": 0,
            "ticks": ""
           }
          },
          "colorscale": {
           "diverging": [
            [
             0,
             "#8e0152"
            ],
            [
             0.1,
             "#c51b7d"
            ],
            [
             0.2,
             "#de77ae"
            ],
            [
             0.3,
             "#f1b6da"
            ],
            [
             0.4,
             "#fde0ef"
            ],
            [
             0.5,
             "#f7f7f7"
            ],
            [
             0.6,
             "#e6f5d0"
            ],
            [
             0.7,
             "#b8e186"
            ],
            [
             0.8,
             "#7fbc41"
            ],
            [
             0.9,
             "#4d9221"
            ],
            [
             1,
             "#276419"
            ]
           ],
           "sequential": [
            [
             0,
             "#0d0887"
            ],
            [
             0.1111111111111111,
             "#46039f"
            ],
            [
             0.2222222222222222,
             "#7201a8"
            ],
            [
             0.3333333333333333,
             "#9c179e"
            ],
            [
             0.4444444444444444,
             "#bd3786"
            ],
            [
             0.5555555555555556,
             "#d8576b"
            ],
            [
             0.6666666666666666,
             "#ed7953"
            ],
            [
             0.7777777777777778,
             "#fb9f3a"
            ],
            [
             0.8888888888888888,
             "#fdca26"
            ],
            [
             1,
             "#f0f921"
            ]
           ],
           "sequentialminus": [
            [
             0,
             "#0d0887"
            ],
            [
             0.1111111111111111,
             "#46039f"
            ],
            [
             0.2222222222222222,
             "#7201a8"
            ],
            [
             0.3333333333333333,
             "#9c179e"
            ],
            [
             0.4444444444444444,
             "#bd3786"
            ],
            [
             0.5555555555555556,
             "#d8576b"
            ],
            [
             0.6666666666666666,
             "#ed7953"
            ],
            [
             0.7777777777777778,
             "#fb9f3a"
            ],
            [
             0.8888888888888888,
             "#fdca26"
            ],
            [
             1,
             "#f0f921"
            ]
           ]
          },
          "colorway": [
           "#636efa",
           "#EF553B",
           "#00cc96",
           "#ab63fa",
           "#FFA15A",
           "#19d3f3",
           "#FF6692",
           "#B6E880",
           "#FF97FF",
           "#FECB52"
          ],
          "font": {
           "color": "#2a3f5f"
          },
          "geo": {
           "bgcolor": "white",
           "lakecolor": "white",
           "landcolor": "#E5ECF6",
           "showlakes": true,
           "showland": true,
           "subunitcolor": "white"
          },
          "hoverlabel": {
           "align": "left"
          },
          "hovermode": "closest",
          "mapbox": {
           "style": "light"
          },
          "paper_bgcolor": "white",
          "plot_bgcolor": "#E5ECF6",
          "polar": {
           "angularaxis": {
            "gridcolor": "white",
            "linecolor": "white",
            "ticks": ""
           },
           "bgcolor": "#E5ECF6",
           "radialaxis": {
            "gridcolor": "white",
            "linecolor": "white",
            "ticks": ""
           }
          },
          "scene": {
           "xaxis": {
            "backgroundcolor": "#E5ECF6",
            "gridcolor": "white",
            "gridwidth": 2,
            "linecolor": "white",
            "showbackground": true,
            "ticks": "",
            "zerolinecolor": "white"
           },
           "yaxis": {
            "backgroundcolor": "#E5ECF6",
            "gridcolor": "white",
            "gridwidth": 2,
            "linecolor": "white",
            "showbackground": true,
            "ticks": "",
            "zerolinecolor": "white"
           },
           "zaxis": {
            "backgroundcolor": "#E5ECF6",
            "gridcolor": "white",
            "gridwidth": 2,
            "linecolor": "white",
            "showbackground": true,
            "ticks": "",
            "zerolinecolor": "white"
           }
          },
          "shapedefaults": {
           "line": {
            "color": "#2a3f5f"
           }
          },
          "ternary": {
           "aaxis": {
            "gridcolor": "white",
            "linecolor": "white",
            "ticks": ""
           },
           "baxis": {
            "gridcolor": "white",
            "linecolor": "white",
            "ticks": ""
           },
           "bgcolor": "#E5ECF6",
           "caxis": {
            "gridcolor": "white",
            "linecolor": "white",
            "ticks": ""
           }
          },
          "title": {
           "x": 0.05
          },
          "xaxis": {
           "automargin": true,
           "gridcolor": "white",
           "linecolor": "white",
           "ticks": "",
           "title": {
            "standoff": 15
           },
           "zerolinecolor": "white",
           "zerolinewidth": 2
          },
          "yaxis": {
           "automargin": true,
           "gridcolor": "white",
           "linecolor": "white",
           "ticks": "",
           "title": {
            "standoff": 15
           },
           "zerolinecolor": "white",
           "zerolinewidth": 2
          }
         }
        },
        "title": {
         "font": {
          "color": "#4D5663"
         },
         "text": "Top 20 bigrams in text"
        },
        "xaxis": {
         "gridcolor": "#E1E5ED",
         "linecolor": "black",
         "showgrid": true,
         "tickfont": {
          "color": "#4D5663"
         },
         "title": {
          "font": {
           "color": "#4D5663"
          },
          "text": ""
         },
         "zerolinecolor": "#E1E5ED"
        },
        "yaxis": {
         "gridcolor": "#E1E5ED",
         "linecolor": "black",
         "showgrid": true,
         "tickfont": {
          "color": "#4D5663"
         },
         "title": {
          "font": {
           "color": "#4D5663"
          },
          "text": "Count"
         },
         "zerolinecolor": "#E1E5ED"
        }
       }
      },
      "text/html": [
       "<div>\n",
       "        \n",
       "        \n",
       "            <div id=\"916e5452-4008-4340-9edf-5cbd44408d41\" class=\"plotly-graph-div\" style=\"height:525px; width:100%;\"></div>\n",
       "            <script type=\"text/javascript\">\n",
       "                require([\"plotly\"], function(Plotly) {\n",
       "                    window.PLOTLYENV=window.PLOTLYENV || {};\n",
       "                    window.PLOTLYENV.BASE_URL='https://plot.ly';\n",
       "                    \n",
       "                if (document.getElementById(\"916e5452-4008-4340-9edf-5cbd44408d41\")) {\n",
       "                    Plotly.newPlot(\n",
       "                        '916e5452-4008-4340-9edf-5cbd44408d41',\n",
       "                        [{\"marker\": {\"color\": \"rgba(255, 153, 51, 0.6)\", \"line\": {\"color\": \"rgba(255, 153, 51, 1.0)\", \"width\": 1}}, \"name\": \"count\", \"orientation\": \"v\", \"text\": \"\", \"type\": \"bar\", \"x\": [\"\\u0623\\u0639\\u0648\\u0630 \\u0628\\u0643 \\u0645\\u0646\", \"\\u0625\\u0646\\u064a \\u0623\\u0639\\u0648\\u0630 \\u0628\\u0643\", \"\\u0628\\u0643 \\u0645\\u0646 \\u0627\\u0644\\u0647\\u0645\", \"\\u0645\\u0646 \\u0627\\u0644\\u0647\\u0645 \\u0648\\u0627\\u0644\\u062d\\u0632\\u0646\", \"\\u0648\\u0627\\u0644\\u062d\\u0632\\u0646 \\u0648\\u0627\\u0644\\u0639\\u062c\\u0632 \\u0648\\u0627\\u0644\\u0643\\u0633\\u0644\", \"\\u0627\\u0644\\u0647\\u0645 \\u0648\\u0627\\u0644\\u062d\\u0632\\u0646 \\u0648\\u0627\\u0644\\u0639\\u062c\\u0632\", \"\\u0648\\u0627\\u0644\\u0639\\u062c\\u0632 \\u0648\\u0627\\u0644\\u0643\\u0633\\u0644 \\u0648\\u0627\\u0644\\u062c\\u0628\\u0646\", \"\\u0648\\u0627\\u0644\\u0643\\u0633\\u0644 \\u0648\\u0627\\u0644\\u062c\\u0628\\u0646 \\u0648\\u0627\\u0644\\u0628\\u062e\\u0644\", \"\\u0627\\u0644\\u0644\\u0647\\u0645 \\u0625\\u0646\\u064a \\u0623\\u0639\\u0648\\u0630\", \"\\u0627\\u0644\\u062f\\u064a\\u0646 \\u0648\\u0642\\u0647\\u0631 \\u0627\\u0644\\u0631\\u062c\\u0627\\u0644\", \"\\u0648\\u063a\\u0644\\u0628\\u0629 \\u0627\\u0644\\u062f\\u064a\\u0646 \\u0648\\u0642\\u0647\\u0631\", \"\\u0648\\u0627\\u0644\\u0628\\u062e\\u0644 \\u0648\\u063a\\u0644\\u0628\\u0629 \\u0627\\u0644\\u062f\\u064a\\u0646\", \"\\u0648\\u0627\\u0644\\u062c\\u0628\\u0646 \\u0648\\u0627\\u0644\\u0628\\u062e\\u0644 \\u0648\\u063a\\u0644\\u0628\\u0629\", \"\\u062a\\u0631\\u0643\\u064a\\u0629 \\u0627\\u0631\\u0633\\u0644\\u062a \\u0627\\u0644\\u064a\\u0648\\u0645\", \"\\u062e\\u0637\\u0627\\u0628 \\u0644\\u0644\\u0633\\u0639\\u0648\\u062f\\u064a\\u0629 \\u062a\\u0637\\u0627\\u0644\\u0628\\u0647\\u0627\", \"\\u0627\\u0644\\u064a\\u0648\\u0645 \\u062e\\u0637\\u0627\\u0628 \\u0644\\u0644\\u0633\\u0639\\u0648\\u062f\\u064a\\u0629\", \"\\u0634\\u0631\\u0643\\u0627\\u062a \\u062a\\u0631\\u0643\\u064a\\u0629 \\u0627\\u0631\\u0633\\u0644\\u062a\", \"\\u0627\\u0631\\u0633\\u0644\\u062a \\u0627\\u0644\\u064a\\u0648\\u0645 \\u062e\\u0637\\u0627\\u0628\", \"\\u062a\\u0637\\u0627\\u0644\\u0628\\u0647\\u0627 \\u0628\\u0627\\u0644\\u0639\\u0645\\u0644 \\u0639\\u0644\\u0649\", \"\\u0644\\u0644\\u0633\\u0639\\u0648\\u062f\\u064a\\u0629 \\u062a\\u0637\\u0627\\u0644\\u0628\\u0647\\u0627 \\u0628\\u0627\\u0644\\u0639\\u0645\\u0644\"], \"y\": [562, 561, 552, 549, 546, 545, 543, 542, 533, 521, 511, 511, 511, 387, 387, 387, 387, 387, 387, 386]}],\n",
       "                        {\"legend\": {\"bgcolor\": \"#F5F6F9\", \"font\": {\"color\": \"#4D5663\"}}, \"paper_bgcolor\": \"#F5F6F9\", \"plot_bgcolor\": \"#F5F6F9\", \"template\": {\"data\": {\"bar\": [{\"error_x\": {\"color\": \"#2a3f5f\"}, \"error_y\": {\"color\": \"#2a3f5f\"}, \"marker\": {\"line\": {\"color\": \"#E5ECF6\", \"width\": 0.5}}, \"type\": \"bar\"}], \"barpolar\": [{\"marker\": {\"line\": {\"color\": \"#E5ECF6\", \"width\": 0.5}}, \"type\": \"barpolar\"}], \"carpet\": [{\"aaxis\": {\"endlinecolor\": \"#2a3f5f\", \"gridcolor\": \"white\", \"linecolor\": \"white\", \"minorgridcolor\": \"white\", \"startlinecolor\": \"#2a3f5f\"}, \"baxis\": {\"endlinecolor\": \"#2a3f5f\", \"gridcolor\": \"white\", \"linecolor\": \"white\", \"minorgridcolor\": \"white\", \"startlinecolor\": \"#2a3f5f\"}, \"type\": \"carpet\"}], \"choropleth\": [{\"colorbar\": {\"outlinewidth\": 0, \"ticks\": \"\"}, \"type\": \"choropleth\"}], \"contour\": [{\"colorbar\": {\"outlinewidth\": 0, \"ticks\": \"\"}, \"colorscale\": [[0.0, \"#0d0887\"], [0.1111111111111111, \"#46039f\"], [0.2222222222222222, \"#7201a8\"], [0.3333333333333333, \"#9c179e\"], [0.4444444444444444, \"#bd3786\"], [0.5555555555555556, \"#d8576b\"], [0.6666666666666666, \"#ed7953\"], [0.7777777777777778, \"#fb9f3a\"], [0.8888888888888888, \"#fdca26\"], [1.0, \"#f0f921\"]], \"type\": \"contour\"}], \"contourcarpet\": [{\"colorbar\": {\"outlinewidth\": 0, \"ticks\": \"\"}, \"type\": \"contourcarpet\"}], \"heatmap\": [{\"colorbar\": {\"outlinewidth\": 0, \"ticks\": \"\"}, \"colorscale\": [[0.0, \"#0d0887\"], [0.1111111111111111, \"#46039f\"], [0.2222222222222222, \"#7201a8\"], [0.3333333333333333, \"#9c179e\"], [0.4444444444444444, \"#bd3786\"], [0.5555555555555556, \"#d8576b\"], [0.6666666666666666, \"#ed7953\"], [0.7777777777777778, \"#fb9f3a\"], [0.8888888888888888, \"#fdca26\"], [1.0, \"#f0f921\"]], \"type\": \"heatmap\"}], \"heatmapgl\": [{\"colorbar\": {\"outlinewidth\": 0, \"ticks\": \"\"}, \"colorscale\": [[0.0, \"#0d0887\"], [0.1111111111111111, \"#46039f\"], [0.2222222222222222, \"#7201a8\"], [0.3333333333333333, \"#9c179e\"], [0.4444444444444444, \"#bd3786\"], [0.5555555555555556, \"#d8576b\"], [0.6666666666666666, \"#ed7953\"], [0.7777777777777778, \"#fb9f3a\"], [0.8888888888888888, \"#fdca26\"], [1.0, \"#f0f921\"]], \"type\": \"heatmapgl\"}], \"histogram\": [{\"marker\": {\"colorbar\": {\"outlinewidth\": 0, \"ticks\": \"\"}}, \"type\": \"histogram\"}], \"histogram2d\": [{\"colorbar\": {\"outlinewidth\": 0, \"ticks\": \"\"}, \"colorscale\": [[0.0, \"#0d0887\"], [0.1111111111111111, \"#46039f\"], [0.2222222222222222, \"#7201a8\"], [0.3333333333333333, \"#9c179e\"], [0.4444444444444444, \"#bd3786\"], [0.5555555555555556, \"#d8576b\"], [0.6666666666666666, \"#ed7953\"], [0.7777777777777778, \"#fb9f3a\"], [0.8888888888888888, \"#fdca26\"], [1.0, \"#f0f921\"]], \"type\": \"histogram2d\"}], \"histogram2dcontour\": [{\"colorbar\": {\"outlinewidth\": 0, \"ticks\": \"\"}, \"colorscale\": [[0.0, \"#0d0887\"], [0.1111111111111111, \"#46039f\"], [0.2222222222222222, \"#7201a8\"], [0.3333333333333333, \"#9c179e\"], [0.4444444444444444, \"#bd3786\"], [0.5555555555555556, \"#d8576b\"], [0.6666666666666666, \"#ed7953\"], [0.7777777777777778, \"#fb9f3a\"], [0.8888888888888888, \"#fdca26\"], [1.0, \"#f0f921\"]], \"type\": \"histogram2dcontour\"}], \"mesh3d\": [{\"colorbar\": {\"outlinewidth\": 0, \"ticks\": \"\"}, \"type\": \"mesh3d\"}], \"parcoords\": [{\"line\": {\"colorbar\": {\"outlinewidth\": 0, \"ticks\": \"\"}}, \"type\": \"parcoords\"}], \"pie\": [{\"automargin\": true, \"type\": \"pie\"}], \"scatter\": [{\"marker\": {\"colorbar\": {\"outlinewidth\": 0, \"ticks\": \"\"}}, \"type\": \"scatter\"}], \"scatter3d\": [{\"line\": {\"colorbar\": {\"outlinewidth\": 0, \"ticks\": \"\"}}, \"marker\": {\"colorbar\": {\"outlinewidth\": 0, \"ticks\": \"\"}}, \"type\": \"scatter3d\"}], \"scattercarpet\": [{\"marker\": {\"colorbar\": {\"outlinewidth\": 0, \"ticks\": \"\"}}, \"type\": \"scattercarpet\"}], \"scattergeo\": [{\"marker\": {\"colorbar\": {\"outlinewidth\": 0, \"ticks\": \"\"}}, \"type\": \"scattergeo\"}], \"scattergl\": [{\"marker\": {\"colorbar\": {\"outlinewidth\": 0, \"ticks\": \"\"}}, \"type\": \"scattergl\"}], \"scattermapbox\": [{\"marker\": {\"colorbar\": {\"outlinewidth\": 0, \"ticks\": \"\"}}, \"type\": \"scattermapbox\"}], \"scatterpolar\": [{\"marker\": {\"colorbar\": {\"outlinewidth\": 0, \"ticks\": \"\"}}, \"type\": \"scatterpolar\"}], \"scatterpolargl\": [{\"marker\": {\"colorbar\": {\"outlinewidth\": 0, \"ticks\": \"\"}}, \"type\": \"scatterpolargl\"}], \"scatterternary\": [{\"marker\": {\"colorbar\": {\"outlinewidth\": 0, \"ticks\": \"\"}}, \"type\": \"scatterternary\"}], \"surface\": [{\"colorbar\": {\"outlinewidth\": 0, \"ticks\": \"\"}, \"colorscale\": [[0.0, \"#0d0887\"], [0.1111111111111111, \"#46039f\"], [0.2222222222222222, \"#7201a8\"], [0.3333333333333333, \"#9c179e\"], [0.4444444444444444, \"#bd3786\"], [0.5555555555555556, \"#d8576b\"], [0.6666666666666666, \"#ed7953\"], [0.7777777777777778, \"#fb9f3a\"], [0.8888888888888888, \"#fdca26\"], [1.0, \"#f0f921\"]], \"type\": \"surface\"}], \"table\": [{\"cells\": {\"fill\": {\"color\": \"#EBF0F8\"}, \"line\": {\"color\": \"white\"}}, \"header\": {\"fill\": {\"color\": \"#C8D4E3\"}, \"line\": {\"color\": \"white\"}}, \"type\": \"table\"}]}, \"layout\": {\"annotationdefaults\": {\"arrowcolor\": \"#2a3f5f\", \"arrowhead\": 0, \"arrowwidth\": 1}, \"coloraxis\": {\"colorbar\": {\"outlinewidth\": 0, \"ticks\": \"\"}}, \"colorscale\": {\"diverging\": [[0, \"#8e0152\"], [0.1, \"#c51b7d\"], [0.2, \"#de77ae\"], [0.3, \"#f1b6da\"], [0.4, \"#fde0ef\"], [0.5, \"#f7f7f7\"], [0.6, \"#e6f5d0\"], [0.7, \"#b8e186\"], [0.8, \"#7fbc41\"], [0.9, \"#4d9221\"], [1, \"#276419\"]], \"sequential\": [[0.0, \"#0d0887\"], [0.1111111111111111, \"#46039f\"], [0.2222222222222222, \"#7201a8\"], [0.3333333333333333, \"#9c179e\"], [0.4444444444444444, \"#bd3786\"], [0.5555555555555556, \"#d8576b\"], [0.6666666666666666, \"#ed7953\"], [0.7777777777777778, \"#fb9f3a\"], [0.8888888888888888, \"#fdca26\"], [1.0, \"#f0f921\"]], \"sequentialminus\": [[0.0, \"#0d0887\"], [0.1111111111111111, \"#46039f\"], [0.2222222222222222, \"#7201a8\"], [0.3333333333333333, \"#9c179e\"], [0.4444444444444444, \"#bd3786\"], [0.5555555555555556, \"#d8576b\"], [0.6666666666666666, \"#ed7953\"], [0.7777777777777778, \"#fb9f3a\"], [0.8888888888888888, \"#fdca26\"], [1.0, \"#f0f921\"]]}, \"colorway\": [\"#636efa\", \"#EF553B\", \"#00cc96\", \"#ab63fa\", \"#FFA15A\", \"#19d3f3\", \"#FF6692\", \"#B6E880\", \"#FF97FF\", \"#FECB52\"], \"font\": {\"color\": \"#2a3f5f\"}, \"geo\": {\"bgcolor\": \"white\", \"lakecolor\": \"white\", \"landcolor\": \"#E5ECF6\", \"showlakes\": true, \"showland\": true, \"subunitcolor\": \"white\"}, \"hoverlabel\": {\"align\": \"left\"}, \"hovermode\": \"closest\", \"mapbox\": {\"style\": \"light\"}, \"paper_bgcolor\": \"white\", \"plot_bgcolor\": \"#E5ECF6\", \"polar\": {\"angularaxis\": {\"gridcolor\": \"white\", \"linecolor\": \"white\", \"ticks\": \"\"}, \"bgcolor\": \"#E5ECF6\", \"radialaxis\": {\"gridcolor\": \"white\", \"linecolor\": \"white\", \"ticks\": \"\"}}, \"scene\": {\"xaxis\": {\"backgroundcolor\": \"#E5ECF6\", \"gridcolor\": \"white\", \"gridwidth\": 2, \"linecolor\": \"white\", \"showbackground\": true, \"ticks\": \"\", \"zerolinecolor\": \"white\"}, \"yaxis\": {\"backgroundcolor\": \"#E5ECF6\", \"gridcolor\": \"white\", \"gridwidth\": 2, \"linecolor\": \"white\", \"showbackground\": true, \"ticks\": \"\", \"zerolinecolor\": \"white\"}, \"zaxis\": {\"backgroundcolor\": \"#E5ECF6\", \"gridcolor\": \"white\", \"gridwidth\": 2, \"linecolor\": \"white\", \"showbackground\": true, \"ticks\": \"\", \"zerolinecolor\": \"white\"}}, \"shapedefaults\": {\"line\": {\"color\": \"#2a3f5f\"}}, \"ternary\": {\"aaxis\": {\"gridcolor\": \"white\", \"linecolor\": \"white\", \"ticks\": \"\"}, \"baxis\": {\"gridcolor\": \"white\", \"linecolor\": \"white\", \"ticks\": \"\"}, \"bgcolor\": \"#E5ECF6\", \"caxis\": {\"gridcolor\": \"white\", \"linecolor\": \"white\", \"ticks\": \"\"}}, \"title\": {\"x\": 0.05}, \"xaxis\": {\"automargin\": true, \"gridcolor\": \"white\", \"linecolor\": \"white\", \"ticks\": \"\", \"title\": {\"standoff\": 15}, \"zerolinecolor\": \"white\", \"zerolinewidth\": 2}, \"yaxis\": {\"automargin\": true, \"gridcolor\": \"white\", \"linecolor\": \"white\", \"ticks\": \"\", \"title\": {\"standoff\": 15}, \"zerolinecolor\": \"white\", \"zerolinewidth\": 2}}}, \"title\": {\"font\": {\"color\": \"#4D5663\"}, \"text\": \"Top 20 bigrams in text\"}, \"xaxis\": {\"gridcolor\": \"#E1E5ED\", \"linecolor\": \"black\", \"showgrid\": true, \"tickfont\": {\"color\": \"#4D5663\"}, \"title\": {\"font\": {\"color\": \"#4D5663\"}, \"text\": \"\"}, \"zerolinecolor\": \"#E1E5ED\"}, \"yaxis\": {\"gridcolor\": \"#E1E5ED\", \"linecolor\": \"black\", \"showgrid\": true, \"tickfont\": {\"color\": \"#4D5663\"}, \"title\": {\"font\": {\"color\": \"#4D5663\"}, \"text\": \"Count\"}, \"zerolinecolor\": \"#E1E5ED\"}},\n",
       "                        {\"showLink\": true, \"linkText\": \"Export to plot.ly\", \"plotlyServerURL\": \"https://plot.ly\", \"responsive\": true}\n",
       "                    ).then(function(){\n",
       "                            \n",
       "var gd = document.getElementById('916e5452-4008-4340-9edf-5cbd44408d41');\n",
       "var x = new MutationObserver(function (mutations, observer) {{\n",
       "        var display = window.getComputedStyle(gd).display;\n",
       "        if (!display || display === 'none') {{\n",
       "            console.log([gd, 'removed!']);\n",
       "            Plotly.purge(gd);\n",
       "            observer.disconnect();\n",
       "        }}\n",
       "}});\n",
       "\n",
       "// Listen for the removal of the full notebook cells\n",
       "var notebookContainer = gd.closest('#notebook-container');\n",
       "if (notebookContainer) {{\n",
       "    x.observe(notebookContainer, {childList: true});\n",
       "}}\n",
       "\n",
       "// Listen for the clearing of the current output cell\n",
       "var outputEl = gd.closest('.output');\n",
       "if (outputEl) {{\n",
       "    x.observe(outputEl, {childList: true});\n",
       "}}\n",
       "\n",
       "                        })\n",
       "                };\n",
       "                });\n",
       "            </script>\n",
       "        </div>"
      ]
     },
     "metadata": {},
     "output_type": "display_data"
    }
   ],
   "source": [
    "df_trigram.groupby('word').sum()['count'].sort_values(ascending=False).iplot(\n",
    "    kind='bar', yTitle='Count', linecolor='black', title='Top 20 bigrams in text')"
   ]
  },
  {
   "cell_type": "markdown",
   "metadata": {},
   "source": [
    "<center><h1>Transaltion in English </h1></center>"
   ]
  },
  {
   "cell_type": "code",
   "execution_count": 19,
   "metadata": {},
   "outputs": [
    {
     "data": {
      "text/html": [
       "<div>\n",
       "<style scoped>\n",
       "    .dataframe tbody tr th:only-of-type {\n",
       "        vertical-align: middle;\n",
       "    }\n",
       "\n",
       "    .dataframe tbody tr th {\n",
       "        vertical-align: top;\n",
       "    }\n",
       "\n",
       "    .dataframe thead th {\n",
       "        text-align: right;\n",
       "    }\n",
       "</style>\n",
       "<table border=\"1\" class=\"dataframe\">\n",
       "  <thead>\n",
       "    <tr style=\"text-align: right;\">\n",
       "      <th></th>\n",
       "      <th>text</th>\n",
       "      <th>Username</th>\n",
       "      <th>location</th>\n",
       "      <th>Timestamp</th>\n",
       "      <th>followers</th>\n",
       "      <th>label</th>\n",
       "      <th>categorie</th>\n",
       "      <th>translated</th>\n",
       "    </tr>\n",
       "  </thead>\n",
       "  <tbody>\n",
       "    <tr>\n",
       "      <th>0</th>\n",
       "      <td>ألف مليون مبروك لنادي أسوان وجمهوره الجميل الب...</td>\n",
       "      <td>Banoubi</td>\n",
       "      <td>Cairo , EGYPT</td>\n",
       "      <td>Thu Oct 08 19:40:41 +0000 2020</td>\n",
       "      <td>12448</td>\n",
       "      <td>0</td>\n",
       "      <td>sport</td>\n",
       "      <td>A million congratulations to Aswan Club and it...</td>\n",
       "    </tr>\n",
       "    <tr>\n",
       "      <th>1</th>\n",
       "      <td>كان لدينا تحديدا في هذه الوزارة وزير يتحرك قب...</td>\n",
       "      <td>Nubi_j</td>\n",
       "      <td>👑 Kush Kingdom 👑🇸🇩🇻🇨</td>\n",
       "      <td>Thu Oct 08 20:21:38 +0000 2020</td>\n",
       "      <td>16894</td>\n",
       "      <td>1</td>\n",
       "      <td>politic</td>\n",
       "      <td>Specifically in this ministry we had a ministe...</td>\n",
       "    </tr>\n",
       "    <tr>\n",
       "      <th>2</th>\n",
       "      <td>اللهم صل وسلم وبارك على سيدنا محمد وعلى آله و...</td>\n",
       "      <td>Rawda_horra</td>\n",
       "      <td>NaN</td>\n",
       "      <td>Thu Oct 08 20:55:03 +0000 2020</td>\n",
       "      <td>2496</td>\n",
       "      <td>2</td>\n",
       "      <td>religion</td>\n",
       "      <td>O God, bless and bless our master Muhammad, hi...</td>\n",
       "    </tr>\n",
       "    <tr>\n",
       "      <th>3</th>\n",
       "      <td>كل شعب في العالم ينال الحكومة التي يستحقها تشرشل</td>\n",
       "      <td>ssccaa88</td>\n",
       "      <td>NaN</td>\n",
       "      <td>Thu Oct 08 20:46:33 +0000 2020</td>\n",
       "      <td>4664</td>\n",
       "      <td>1</td>\n",
       "      <td>politic</td>\n",
       "      <td>Every people in the world receives the governm...</td>\n",
       "    </tr>\n",
       "    <tr>\n",
       "      <th>4</th>\n",
       "      <td>كل التحية والتقدير للاعبي الزمالك علي المجهود...</td>\n",
       "      <td>Bahaa_ELaggan</td>\n",
       "      <td>مصر</td>\n",
       "      <td>Thu Oct 08 20:08:28 +0000 2020</td>\n",
       "      <td>538</td>\n",
       "      <td>0</td>\n",
       "      <td>sport</td>\n",
       "      <td>All greetings and appreciation to the players ...</td>\n",
       "    </tr>\n",
       "    <tr>\n",
       "      <th>...</th>\n",
       "      <td>...</td>\n",
       "      <td>...</td>\n",
       "      <td>...</td>\n",
       "      <td>...</td>\n",
       "      <td>...</td>\n",
       "      <td>...</td>\n",
       "      <td>...</td>\n",
       "      <td>...</td>\n",
       "    </tr>\n",
       "    <tr>\n",
       "      <th>4995</th>\n",
       "      <td>نشترىالاثاثالمستعملبالرياضبأفضلالاسعارغرفمطاب...</td>\n",
       "      <td>t22_0p</td>\n",
       "      <td>NaN</td>\n",
       "      <td>Thu Oct 08 18:35:09 +0000 2020</td>\n",
       "      <td>2596</td>\n",
       "      <td>4</td>\n",
       "      <td>economy</td>\n",
       "      <td>We buy used furniture in Riyadh at the best pr...</td>\n",
       "    </tr>\n",
       "    <tr>\n",
       "      <th>4996</th>\n",
       "      <td>و كما يقال القانون هو طب الآداب</td>\n",
       "      <td>omar_au</td>\n",
       "      <td>Kuwait</td>\n",
       "      <td>Thu Oct 08 19:47:45 +0000 2020</td>\n",
       "      <td>3071</td>\n",
       "      <td>1</td>\n",
       "      <td>politic</td>\n",
       "      <td>And as they say the law is the medicine of the...</td>\n",
       "    </tr>\n",
       "    <tr>\n",
       "      <th>4997</th>\n",
       "      <td>مخربي الناصريةيحركون مدينتهم لان جميل الشمريطل...</td>\n",
       "      <td>hasan_z313</td>\n",
       "      <td>NaN</td>\n",
       "      <td>Thu Oct 08 19:47:43 +0000 2020</td>\n",
       "      <td>286</td>\n",
       "      <td>1</td>\n",
       "      <td>politic</td>\n",
       "      <td>The saboteurs of Nasiriyah, moving their city,...</td>\n",
       "    </tr>\n",
       "    <tr>\n",
       "      <th>4998</th>\n",
       "      <td>مسموح اختراق ال وتبادل الموسيقى</td>\n",
       "      <td>NourGadll</td>\n",
       "      <td>NaN</td>\n",
       "      <td>Thu Oct 08 18:08:13 +0000 2020</td>\n",
       "      <td>651</td>\n",
       "      <td>3</td>\n",
       "      <td>art</td>\n",
       "      <td>Hacking and sharing music is allowed</td>\n",
       "    </tr>\n",
       "    <tr>\n",
       "      <th>4999</th>\n",
       "      <td>كل التحية والتقدير للاعبي الزمالك علي المجهود...</td>\n",
       "      <td>HamadaTohamy2</td>\n",
       "      <td>خيطان, دولة الكويت</td>\n",
       "      <td>Thu Oct 08 20:10:20 +0000 2020</td>\n",
       "      <td>3</td>\n",
       "      <td>0</td>\n",
       "      <td>sport</td>\n",
       "      <td>All greetings and appreciation to the players ...</td>\n",
       "    </tr>\n",
       "  </tbody>\n",
       "</table>\n",
       "<p>5000 rows × 8 columns</p>\n",
       "</div>"
      ],
      "text/plain": [
       "                                                   text       Username  \\\n",
       "0     ألف مليون مبروك لنادي أسوان وجمهوره الجميل الب...        Banoubi   \n",
       "1      كان لدينا تحديدا في هذه الوزارة وزير يتحرك قب...         Nubi_j   \n",
       "2      اللهم صل وسلم وبارك على سيدنا محمد وعلى آله و...    Rawda_horra   \n",
       "3      كل شعب في العالم ينال الحكومة التي يستحقها تشرشل       ssccaa88   \n",
       "4      كل التحية والتقدير للاعبي الزمالك علي المجهود...  Bahaa_ELaggan   \n",
       "...                                                 ...            ...   \n",
       "4995   نشترىالاثاثالمستعملبالرياضبأفضلالاسعارغرفمطاب...         t22_0p   \n",
       "4996                    و كما يقال القانون هو طب الآداب        omar_au   \n",
       "4997  مخربي الناصريةيحركون مدينتهم لان جميل الشمريطل...     hasan_z313   \n",
       "4998                    مسموح اختراق ال وتبادل الموسيقى      NourGadll   \n",
       "4999   كل التحية والتقدير للاعبي الزمالك علي المجهود...  HamadaTohamy2   \n",
       "\n",
       "                  location                       Timestamp  followers  label  \\\n",
       "0            Cairo , EGYPT  Thu Oct 08 19:40:41 +0000 2020      12448      0   \n",
       "1     👑 Kush Kingdom 👑🇸🇩🇻🇨  Thu Oct 08 20:21:38 +0000 2020      16894      1   \n",
       "2                      NaN  Thu Oct 08 20:55:03 +0000 2020       2496      2   \n",
       "3                      NaN  Thu Oct 08 20:46:33 +0000 2020       4664      1   \n",
       "4                      مصر  Thu Oct 08 20:08:28 +0000 2020        538      0   \n",
       "...                    ...                             ...        ...    ...   \n",
       "4995                   NaN  Thu Oct 08 18:35:09 +0000 2020       2596      4   \n",
       "4996                Kuwait  Thu Oct 08 19:47:45 +0000 2020       3071      1   \n",
       "4997                   NaN  Thu Oct 08 19:47:43 +0000 2020        286      1   \n",
       "4998                   NaN  Thu Oct 08 18:08:13 +0000 2020        651      3   \n",
       "4999    خيطان, دولة الكويت  Thu Oct 08 20:10:20 +0000 2020          3      0   \n",
       "\n",
       "     categorie                                         translated  \n",
       "0        sport  A million congratulations to Aswan Club and it...  \n",
       "1      politic  Specifically in this ministry we had a ministe...  \n",
       "2     religion  O God, bless and bless our master Muhammad, hi...  \n",
       "3      politic  Every people in the world receives the governm...  \n",
       "4        sport  All greetings and appreciation to the players ...  \n",
       "...        ...                                                ...  \n",
       "4995   economy  We buy used furniture in Riyadh at the best pr...  \n",
       "4996   politic  And as they say the law is the medicine of the...  \n",
       "4997   politic  The saboteurs of Nasiriyah, moving their city,...  \n",
       "4998       art               Hacking and sharing music is allowed  \n",
       "4999     sport  All greetings and appreciation to the players ...  \n",
       "\n",
       "[5000 rows x 8 columns]"
      ]
     },
     "execution_count": 19,
     "metadata": {},
     "output_type": "execute_result"
    }
   ],
   "source": [
    "import copy\n",
    "import googletrans\n",
    "from googletrans import Translator\n",
    "\n",
    "translatedList = []\n",
    "for index, row in df2.iterrows():\n",
    "    \n",
    "    translator = Translator()\n",
    "    newrow = copy.deepcopy(row)\n",
    "    try:\n",
    "        # translate the 'text' column\n",
    "        translated = translator.translate(row['text'], dest='en')\n",
    "        newrow['translated'] = translated.text\n",
    "    except Exception as e:\n",
    "        print(str(e))\n",
    "        continue\n",
    "    translatedList.append(newrow)\n",
    "tweets_arab_trans = pd.DataFrame(translatedList)\n",
    "tweets_arab_trans"
   ]
  },
  {
   "cell_type": "markdown",
   "metadata": {},
   "source": [
    "\n",
    "<center><h1>Stop Words </h1></center>"
   ]
  },
  {
   "cell_type": "code",
   "execution_count": 13,
   "metadata": {},
   "outputs": [
    {
     "data": {
      "text/plain": [
       "{'آه',\n",
       " 'آها',\n",
       " 'آي',\n",
       " 'أف',\n",
       " 'أقل',\n",
       " 'أكثر',\n",
       " 'ألا',\n",
       " 'أم',\n",
       " 'أما',\n",
       " 'أن',\n",
       " 'أنا',\n",
       " 'أنت',\n",
       " 'أنتم',\n",
       " 'أنتما',\n",
       " 'أنتن',\n",
       " 'أنى',\n",
       " 'أو',\n",
       " 'أولئك',\n",
       " 'أولاء',\n",
       " 'أوه',\n",
       " 'أي',\n",
       " 'أين',\n",
       " 'أينما',\n",
       " 'أيها',\n",
       " 'إذ',\n",
       " 'إذا',\n",
       " 'إذما',\n",
       " 'إذن',\n",
       " 'إلا',\n",
       " 'إلى',\n",
       " 'إليك',\n",
       " 'إليكم',\n",
       " 'إليكما',\n",
       " 'إليكن',\n",
       " 'إما',\n",
       " 'إن',\n",
       " 'إنا',\n",
       " 'إنما',\n",
       " 'إنه',\n",
       " 'إي',\n",
       " 'إيه',\n",
       " 'التي',\n",
       " 'الذي',\n",
       " 'الذين',\n",
       " 'اللائي',\n",
       " 'اللاتي',\n",
       " 'اللتان',\n",
       " 'اللتيا',\n",
       " 'اللتين',\n",
       " 'اللذان',\n",
       " 'اللذين',\n",
       " 'اللواتي',\n",
       " 'بخ',\n",
       " 'بس',\n",
       " 'بعد',\n",
       " 'بعض',\n",
       " 'بك',\n",
       " 'بكم',\n",
       " 'بكما',\n",
       " 'بكن',\n",
       " 'بل',\n",
       " 'بلى',\n",
       " 'بما',\n",
       " 'بماذا',\n",
       " 'بمن',\n",
       " 'بنا',\n",
       " 'به',\n",
       " 'بها',\n",
       " 'بهم',\n",
       " 'بهما',\n",
       " 'بهن',\n",
       " 'بي',\n",
       " 'بيد',\n",
       " 'بين',\n",
       " 'تلك',\n",
       " 'تلكم',\n",
       " 'تلكما',\n",
       " 'ته',\n",
       " 'تي',\n",
       " 'تين',\n",
       " 'تينك',\n",
       " 'ثم',\n",
       " 'ثمة',\n",
       " 'حاشا',\n",
       " 'حبذا',\n",
       " 'حتى',\n",
       " 'حيث',\n",
       " 'حيثما',\n",
       " 'حين',\n",
       " 'خلا',\n",
       " 'دون',\n",
       " 'ذا',\n",
       " 'ذات',\n",
       " 'ذاك',\n",
       " 'ذان',\n",
       " 'ذانك',\n",
       " 'ذلك',\n",
       " 'ذلكم',\n",
       " 'ذلكما',\n",
       " 'ذلكن',\n",
       " 'ذه',\n",
       " 'ذو',\n",
       " 'ذوا',\n",
       " 'ذواتا',\n",
       " 'ذواتي',\n",
       " 'ذي',\n",
       " 'ذين',\n",
       " 'ذينك',\n",
       " 'ريث',\n",
       " 'سوف',\n",
       " 'سوى',\n",
       " 'شتان',\n",
       " 'عدا',\n",
       " 'عسى',\n",
       " 'عل',\n",
       " 'على',\n",
       " 'عليك',\n",
       " 'عليه',\n",
       " 'عما',\n",
       " 'عن',\n",
       " 'عند',\n",
       " 'غير',\n",
       " 'فإذا',\n",
       " 'فإن',\n",
       " 'فلا',\n",
       " 'فمن',\n",
       " 'في',\n",
       " 'فيم',\n",
       " 'فيما',\n",
       " 'فيه',\n",
       " 'فيها',\n",
       " 'قد',\n",
       " 'كأن',\n",
       " 'كأنما',\n",
       " 'كأي',\n",
       " 'كأين',\n",
       " 'كذا',\n",
       " 'كذلك',\n",
       " 'كل',\n",
       " 'كلا',\n",
       " 'كلاهما',\n",
       " 'كلتا',\n",
       " 'كلما',\n",
       " 'كليكما',\n",
       " 'كليهما',\n",
       " 'كم',\n",
       " 'كما',\n",
       " 'كي',\n",
       " 'كيت',\n",
       " 'كيف',\n",
       " 'كيفما',\n",
       " 'لئن',\n",
       " 'لا',\n",
       " 'لاسيما',\n",
       " 'لدى',\n",
       " 'لست',\n",
       " 'لستم',\n",
       " 'لستما',\n",
       " 'لستن',\n",
       " 'لسن',\n",
       " 'لسنا',\n",
       " 'لعل',\n",
       " 'لك',\n",
       " 'لكم',\n",
       " 'لكما',\n",
       " 'لكن',\n",
       " 'لكنما',\n",
       " 'لكي',\n",
       " 'لكيلا',\n",
       " 'لم',\n",
       " 'لما',\n",
       " 'لن',\n",
       " 'لنا',\n",
       " 'له',\n",
       " 'لها',\n",
       " 'لهم',\n",
       " 'لهما',\n",
       " 'لهن',\n",
       " 'لو',\n",
       " 'لولا',\n",
       " 'لوما',\n",
       " 'لي',\n",
       " 'ليت',\n",
       " 'ليس',\n",
       " 'ليسا',\n",
       " 'ليست',\n",
       " 'ليستا',\n",
       " 'ليسوا',\n",
       " 'ما',\n",
       " 'ماذا',\n",
       " 'متى',\n",
       " 'مذ',\n",
       " 'مع',\n",
       " 'مما',\n",
       " 'ممن',\n",
       " 'من',\n",
       " 'منذ',\n",
       " 'منه',\n",
       " 'منها',\n",
       " 'مه',\n",
       " 'مهما',\n",
       " 'نحن',\n",
       " 'نحو',\n",
       " 'نعم',\n",
       " 'هؤلاء',\n",
       " 'ها',\n",
       " 'هاتان',\n",
       " 'هاته',\n",
       " 'هاتي',\n",
       " 'هاتين',\n",
       " 'هاك',\n",
       " 'هاهنا',\n",
       " 'هذا',\n",
       " 'هذان',\n",
       " 'هذه',\n",
       " 'هذي',\n",
       " 'هذين',\n",
       " 'هكذا',\n",
       " 'هل',\n",
       " 'هلا',\n",
       " 'هم',\n",
       " 'هما',\n",
       " 'هن',\n",
       " 'هنا',\n",
       " 'هناك',\n",
       " 'هنالك',\n",
       " 'هو',\n",
       " 'هي',\n",
       " 'هيا',\n",
       " 'هيت',\n",
       " 'هيهات',\n",
       " 'وإذ',\n",
       " 'وإذا',\n",
       " 'وإن',\n",
       " 'والذي',\n",
       " 'والذين',\n",
       " 'ولا',\n",
       " 'ولكن',\n",
       " 'ولو',\n",
       " 'وما',\n",
       " 'ومن',\n",
       " 'وهو',\n",
       " 'يا'}"
      ]
     },
     "execution_count": 13,
     "metadata": {},
     "output_type": "execute_result"
    }
   ],
   "source": [
    "import nltk\n",
    "from nltk.corpus import stopwords\n",
    "stop = stopwords.words('arabic')\n",
    "#words = set(nltk.corpus.words.words())\n",
    "arab_stopwords = set(nltk.corpus.stopwords.words(\"arabic\"))\n",
    "arab_stopwords"
   ]
  },
  {
   "cell_type": "code",
   "execution_count": 14,
   "metadata": {},
   "outputs": [
    {
     "data": {
      "text/plain": [
       "'\\\\b(?:فيما|بهم|بعد|نحن|آي|به|اللتيا|أنت|ماذا|هيا|منذ|ذوا|ومن|حيثما|ذينك|هذين|ليسا|أنتم|سوى|ممن|كذا|ذين|قد|مما|ولو|أما|بهما|عن|هذي|هيت|إنا|كم|اللتين|ما|أف|لي|ذانك|أنتما|لعل|ذه|أنتن|والذين|منها|لك|فيها|لما|فمن|كيت|متى|هلا|في|ذا|هاك|هي|لهم|بمن|أنى|ليس|أين|لنا|ذلك|كل|اللواتي|إنما|فيم|كي|اللاتي|هذه|هناك|ولكن|عل|ذواتي|لست|إليكما|ليست|وما|ثم|إذ|لا|ها|لهما|وإن|ذات|كما|بها|عما|أنا|هنا|لستن|ذو|إما|بكم|بنا|لكنما|عند|ته|بخ|ذان|كذلك|كيف|أكثر|هل|التي|إلى|الذين|وإذ|كلتا|إذا|بين|ألا|هنالك|نعم|يا|الذي|إن|آه|بماذا|كليهما|لستم|بيد|ريث|كأنما|أن|بلى|آها|إذما|حتى|لاسيما|هاهنا|اللائي|إليكم|أي|ولا|وإذا|بكن|هاته|لسن|هاتين|هذان|فإن|تلكما|كأين|بعض|على|إيه|لوما|أيها|لكيلا|حاشا|كلاهما|إذن|حيث|شتان|له|منه|هكذا|بك|لم|ذلكم|هم|أقل|ليستا|ثمة|لكي|بما|لسنا|هما|أم|هذا|هو|كلا|لستما|ذلكما|عسى|مذ|والذي|نحو|مع|وهو|غير|هاتي|فيه|بي|اللذين|فإذا|أو|إنه|عليه|أوه|لكما|من|لكن|مه|فلا|لها|سوف|تلكم|إلا|بل|كأي|لدى|لن|ذواتا|بكما|إليكن|ذي|لولا|هاتان|عدا|هؤلاء|كأن|هيهات|تلك|ذاك|حبذا|هن|لئن|إليك|اللتان|بهن|حين|لو|تي|عليك|بس|ذلكن|كلما|كليكما|أولاء|إي|تين|كيفما|مهما|أينما|لهن|ليسوا|لكم|أولئك|ليت|خلا|دون|اللذان|تينك)\\\\b'"
      ]
     },
     "execution_count": 14,
     "metadata": {},
     "output_type": "execute_result"
    }
   ],
   "source": [
    "arab_stopwords = r'\\b(?:{})\\b'.format('|'.join(arab_stopwords))\n",
    "arab_stopwords"
   ]
  },
  {
   "cell_type": "code",
   "execution_count": 19,
   "metadata": {},
   "outputs": [
    {
     "data": {
      "text/plain": [
       "37025     عطرو  أنفاسكم بالصلاة والسلام  محمد رسول الله...\n",
       "37026      وكيل  ولي  مرشد  عذر لدولة ترفض تطبيق القانو...\n",
       "37027     رسالة واضحة وصريحة وزير الصحة الحالي  لديه ال...\n",
       "37028                                 الموسيقى أصبحت باهتة\n",
       "37029     يووه مرره قدييم  شكل القصه حلوة  انه رسم قديم...\n",
       "37030     ماشفنا للحين شي مر  هالخبر تقريبا سنه سينمالطايف\n",
       "37031     لجلالة السلطان هيثم بن طارق المعظم اهتمامات و...\n",
       "37032                                ايش نسوياسبوع الفيفا \n",
       "37033     عمالقة الفن الكويتي والخليجيالذين قدموا الفن ...\n",
       "37034                                        اخباركم بايتة\n",
       "Name: clean_tweets, dtype: object"
      ]
     },
     "execution_count": 19,
     "metadata": {},
     "output_type": "execute_result"
    }
   ],
   "source": [
    "df2['clean_tweets']=df2['text'].str.replace(arab_stopwords, '')\n",
    "df2['clean_tweets'].tail(10)"
   ]
  },
  {
   "cell_type": "markdown",
   "metadata": {},
   "source": [
    "<center><h1>Tokenize Word and Sentence </h1></center>"
   ]
  },
  {
   "cell_type": "code",
   "execution_count": 23,
   "metadata": {},
   "outputs": [
    {
     "name": "stdout",
     "output_type": "stream",
     "text": [
      "[' اللهم صل وسلم وبارك على سيدنا محمد وعلى آله وصحبه أجمعين ومن تبعهم بإحسان إلى يوم الدين']\n",
      "*********************************\n",
      "['اللهم', 'صل', 'وسلم', 'وبارك', 'على', 'سيدنا', 'محمد', 'وعلى', 'آله', 'وصحبه', 'أجمعين', 'ومن', 'تبعهم', 'بإحسان', 'إلى', 'يوم', 'الدين']\n"
     ]
    }
   ],
   "source": [
    "sentences = df2.iloc[2]\n",
    "sentences['text']\n",
    "print (nltk.sent_tokenize(sentences['text']))\n",
    "print('*********************************')\n",
    "print (nltk.word_tokenize(sentences['text']))"
   ]
  },
  {
   "cell_type": "markdown",
   "metadata": {},
   "source": [
    "\n",
    " <center><h1>Stemmer</h1></center>\n"
   ]
  },
  {
   "cell_type": "code",
   "execution_count": 24,
   "metadata": {},
   "outputs": [
    {
     "name": "stdout",
     "output_type": "stream",
     "text": [
      " اللهم صل وسلم وبارك على سيدنا محمد وعلى آله وصحبه أجمعين ومن تبعهم بإحسان إلى يوم الدين\n",
      "\n",
      "\n",
      " للهم صل سلم برك علي سدن محمد علي ءاله صحبه ءجمعن من تبعهم بءحسن ءلي م لدن\n",
      "\n",
      "\n",
      "\n",
      "\n",
      "\n",
      "ن\n"
     ]
    }
   ],
   "source": [
    "#Tashaphyne is an Arabic light stemmer and segmentor. \n",
    "from tashaphyne.stemming import ArabicLightStemmer\n",
    "ArListem = ArabicLightStemmer()\n",
    "\n",
    " # stemming word\n",
    "stem = ArListem.light_stem(sentences['text'])\n",
    " # extract stem\n",
    "print (ArListem.get_stem())\n",
    "print('\\n')\n",
    " # extract root\n",
    "print (ArListem.get_root())\n",
    "print('\\n')\n",
    "print (ArListem.get_prefix())\n",
    "print('\\n')\n",
    "print (ArListem.get_suffix())"
   ]
  },
  {
   "cell_type": "code",
   "execution_count": 25,
   "metadata": {},
   "outputs": [
    {
     "name": "stdout",
     "output_type": "stream",
     "text": [
      "لهم\n",
      "صل\n",
      "سلم\n",
      "وبر\n",
      "على\n",
      "سيد\n",
      "حمد\n",
      "على\n",
      "اله\n",
      "صحب\n",
      "جمع\n",
      "ومن\n",
      "تبع\n",
      "إحس\n",
      "الى\n",
      "يوم\n",
      "دين\n"
     ]
    }
   ],
   "source": [
    "from nltk.stem.isri import ISRIStemmer\n",
    "st = ISRIStemmer()\n",
    "for a in word_tokenize(sentences['text']):\n",
    "\n",
    "    print(st.stem(a))"
   ]
  },
  {
   "cell_type": "markdown",
   "metadata": {},
   "source": [
    "\n",
    "<center><h1>Bag Of Word</h1></center>"
   ]
  },
  {
   "cell_type": "code",
   "execution_count": 20,
   "metadata": {},
   "outputs": [
    {
     "data": {
      "text/plain": [
       "CountVectorizer()"
      ]
     },
     "execution_count": 20,
     "metadata": {},
     "output_type": "execute_result"
    }
   ],
   "source": [
    "\n",
    "from sklearn.feature_extraction.text import CountVectorizer\n",
    "count_vector = CountVectorizer()\n",
    "count_vector.fit(df2['clean_tweets'])"
   ]
  },
  {
   "cell_type": "code",
   "execution_count": null,
   "metadata": {},
   "outputs": [],
   "source": [
    "\n",
    "#count_vector.get_feature_names()"
   ]
  },
  {
   "cell_type": "code",
   "execution_count": 52,
   "metadata": {},
   "outputs": [
    {
     "data": {
      "text/plain": [
       "array([[0, 0, 0, ..., 0, 0, 0],\n",
       "       [0, 0, 0, ..., 0, 0, 0],\n",
       "       [0, 0, 0, ..., 0, 0, 0],\n",
       "       ...,\n",
       "       [0, 0, 0, ..., 0, 0, 0],\n",
       "       [0, 0, 0, ..., 0, 0, 0],\n",
       "       [0, 0, 0, ..., 0, 0, 0]], dtype=int64)"
      ]
     },
     "execution_count": 52,
     "metadata": {},
     "output_type": "execute_result"
    }
   ],
   "source": [
    "doc_array = count_vector.transform(df2['clean_tweets'][:5000]).toarray()\n",
    "doc_array"
   ]
  },
  {
   "cell_type": "code",
   "execution_count": 10,
   "metadata": {},
   "outputs": [
    {
     "data": {
      "text/html": [
       "<div>\n",
       "<style scoped>\n",
       "    .dataframe tbody tr th:only-of-type {\n",
       "        vertical-align: middle;\n",
       "    }\n",
       "\n",
       "    .dataframe tbody tr th {\n",
       "        vertical-align: top;\n",
       "    }\n",
       "\n",
       "    .dataframe thead th {\n",
       "        text-align: right;\n",
       "    }\n",
       "</style>\n",
       "<table border=\"1\" class=\"dataframe\">\n",
       "  <thead>\n",
       "    <tr style=\"text-align: right;\">\n",
       "      <th></th>\n",
       "      <th>āā</th>\n",
       "      <th>ءامنوا</th>\n",
       "      <th>ءاناي</th>\n",
       "      <th>ءلك</th>\n",
       "      <th>ءيقال</th>\n",
       "      <th>آآآه</th>\n",
       "      <th>آب</th>\n",
       "      <th>آباؤنا</th>\n",
       "      <th>آبائه</th>\n",
       "      <th>آتاه</th>\n",
       "      <th>...</th>\n",
       "      <th>ṣقال</th>\n",
       "      <th>ㅤㅤ</th>\n",
       "      <th>ﷲﷻإن</th>\n",
       "      <th>ﺃﺷﺘﺎﻕ</th>\n",
       "      <th>ﺃﻧﺘﻈﺮﻙ</th>\n",
       "      <th>ﺇﻧا</th>\n",
       "      <th>ﺍﻷﻫﻢ</th>\n",
       "      <th>ﺫﻟﻚ</th>\n",
       "      <th>ﻟكي</th>\n",
       "      <th>ﻣﻦ</th>\n",
       "    </tr>\n",
       "    <tr>\n",
       "      <th>clean_tweets</th>\n",
       "      <th></th>\n",
       "      <th></th>\n",
       "      <th></th>\n",
       "      <th></th>\n",
       "      <th></th>\n",
       "      <th></th>\n",
       "      <th></th>\n",
       "      <th></th>\n",
       "      <th></th>\n",
       "      <th></th>\n",
       "      <th></th>\n",
       "      <th></th>\n",
       "      <th></th>\n",
       "      <th></th>\n",
       "      <th></th>\n",
       "      <th></th>\n",
       "      <th></th>\n",
       "      <th></th>\n",
       "      <th></th>\n",
       "      <th></th>\n",
       "      <th></th>\n",
       "    </tr>\n",
       "  </thead>\n",
       "  <tbody>\n",
       "    <tr>\n",
       "      <th>حبر  ورق  الدليل الأخطاء الفادحة  تحدث  غالبية الإدارات ولم يتم محاسبتها للأسف  يتم الاستغناء  اللاعبين المميزين</th>\n",
       "      <td>0</td>\n",
       "      <td>0</td>\n",
       "      <td>0</td>\n",
       "      <td>0</td>\n",
       "      <td>0</td>\n",
       "      <td>0</td>\n",
       "      <td>0</td>\n",
       "      <td>0</td>\n",
       "      <td>0</td>\n",
       "      <td>0</td>\n",
       "      <td>...</td>\n",
       "      <td>0</td>\n",
       "      <td>0</td>\n",
       "      <td>0</td>\n",
       "      <td>0</td>\n",
       "      <td>0</td>\n",
       "      <td>0</td>\n",
       "      <td>0</td>\n",
       "      <td>0</td>\n",
       "      <td>0</td>\n",
       "      <td>0</td>\n",
       "    </tr>\n",
       "    <tr>\n",
       "      <th>يوجد دمج واضح  السياسة والسلطة السياسة مفهوم يجب يتحلى  ويتقنها جميع الناس وليس احتكارا لمن   السل</th>\n",
       "      <td>0</td>\n",
       "      <td>0</td>\n",
       "      <td>0</td>\n",
       "      <td>0</td>\n",
       "      <td>0</td>\n",
       "      <td>0</td>\n",
       "      <td>0</td>\n",
       "      <td>0</td>\n",
       "      <td>0</td>\n",
       "      <td>0</td>\n",
       "      <td>...</td>\n",
       "      <td>0</td>\n",
       "      <td>0</td>\n",
       "      <td>0</td>\n",
       "      <td>0</td>\n",
       "      <td>0</td>\n",
       "      <td>0</td>\n",
       "      <td>0</td>\n",
       "      <td>0</td>\n",
       "      <td>0</td>\n",
       "      <td>0</td>\n",
       "    </tr>\n",
       "    <tr>\n",
       "      <th>الدول الممنوعة  دخول الكويت بسبب انتشار فايروس كورونا  دولة مصر   صدر  القرار وهذه الجالية تذهب  دبي</th>\n",
       "      <td>0</td>\n",
       "      <td>0</td>\n",
       "      <td>0</td>\n",
       "      <td>0</td>\n",
       "      <td>0</td>\n",
       "      <td>0</td>\n",
       "      <td>0</td>\n",
       "      <td>0</td>\n",
       "      <td>0</td>\n",
       "      <td>0</td>\n",
       "      <td>...</td>\n",
       "      <td>0</td>\n",
       "      <td>0</td>\n",
       "      <td>0</td>\n",
       "      <td>0</td>\n",
       "      <td>0</td>\n",
       "      <td>0</td>\n",
       "      <td>0</td>\n",
       "      <td>0</td>\n",
       "      <td>0</td>\n",
       "      <td>0</td>\n",
       "    </tr>\n",
       "    <tr>\n",
       "      <th>الموسيقى اللي قبل مايقول عمرو حسن خلينا اصحاب تمثلني</th>\n",
       "      <td>0</td>\n",
       "      <td>0</td>\n",
       "      <td>0</td>\n",
       "      <td>0</td>\n",
       "      <td>0</td>\n",
       "      <td>0</td>\n",
       "      <td>0</td>\n",
       "      <td>0</td>\n",
       "      <td>0</td>\n",
       "      <td>0</td>\n",
       "      <td>...</td>\n",
       "      <td>0</td>\n",
       "      <td>0</td>\n",
       "      <td>0</td>\n",
       "      <td>0</td>\n",
       "      <td>0</td>\n",
       "      <td>0</td>\n",
       "      <td>0</td>\n",
       "      <td>0</td>\n",
       "      <td>0</td>\n",
       "      <td>0</td>\n",
       "    </tr>\n",
       "    <tr>\n",
       "      <th>الأفلام تخلينا نضحك ونبكي ونتحمس  مايوصل الحال بأن تكون سبب  فقدان المشاهد لحياته  تحت التغريدة راح احط  مجموعة</th>\n",
       "      <td>0</td>\n",
       "      <td>0</td>\n",
       "      <td>0</td>\n",
       "      <td>0</td>\n",
       "      <td>0</td>\n",
       "      <td>0</td>\n",
       "      <td>0</td>\n",
       "      <td>0</td>\n",
       "      <td>0</td>\n",
       "      <td>0</td>\n",
       "      <td>...</td>\n",
       "      <td>0</td>\n",
       "      <td>0</td>\n",
       "      <td>0</td>\n",
       "      <td>0</td>\n",
       "      <td>0</td>\n",
       "      <td>0</td>\n",
       "      <td>0</td>\n",
       "      <td>0</td>\n",
       "      <td>0</td>\n",
       "      <td>0</td>\n",
       "    </tr>\n",
       "  </tbody>\n",
       "</table>\n",
       "<p>5 rows × 50536 columns</p>\n",
       "</div>"
      ],
      "text/plain": [
       "                                                    āā  ءامنوا  ءاناي  ءلك  \\\n",
       "clean_tweets                                                                 \n",
       " حبر  ورق  الدليل الأخطاء الفادحة  تحدث  غالبية...   0       0      0    0   \n",
       " يوجد دمج واضح  السياسة والسلطة السياسة مفهوم ي...   0       0      0    0   \n",
       "   الدول الممنوعة  دخول الكويت بسبب انتشار فاير...   0       0      0    0   \n",
       "الموسيقى اللي قبل مايقول عمرو حسن خلينا اصحاب ت...   0       0      0    0   \n",
       " الأفلام تخلينا نضحك ونبكي ونتحمس  مايوصل الحال...   0       0      0    0   \n",
       "\n",
       "                                                    ءيقال  آآآه  آب  آباؤنا  \\\n",
       "clean_tweets                                                                  \n",
       " حبر  ورق  الدليل الأخطاء الفادحة  تحدث  غالبية...      0     0   0       0   \n",
       " يوجد دمج واضح  السياسة والسلطة السياسة مفهوم ي...      0     0   0       0   \n",
       "   الدول الممنوعة  دخول الكويت بسبب انتشار فاير...      0     0   0       0   \n",
       "الموسيقى اللي قبل مايقول عمرو حسن خلينا اصحاب ت...      0     0   0       0   \n",
       " الأفلام تخلينا نضحك ونبكي ونتحمس  مايوصل الحال...      0     0   0       0   \n",
       "\n",
       "                                                    آبائه  آتاه  ...  ṣقال  \\\n",
       "clean_tweets                                                     ...         \n",
       " حبر  ورق  الدليل الأخطاء الفادحة  تحدث  غالبية...      0     0  ...     0   \n",
       " يوجد دمج واضح  السياسة والسلطة السياسة مفهوم ي...      0     0  ...     0   \n",
       "   الدول الممنوعة  دخول الكويت بسبب انتشار فاير...      0     0  ...     0   \n",
       "الموسيقى اللي قبل مايقول عمرو حسن خلينا اصحاب ت...      0     0  ...     0   \n",
       " الأفلام تخلينا نضحك ونبكي ونتحمس  مايوصل الحال...      0     0  ...     0   \n",
       "\n",
       "                                                    ㅤㅤ  ﷲﷻإن  ﺃﺷﺘﺎﻕ  ﺃﻧﺘﻈﺮﻙ  \\\n",
       "clean_tweets                                                                  \n",
       " حبر  ورق  الدليل الأخطاء الفادحة  تحدث  غالبية...   0     0      0       0   \n",
       " يوجد دمج واضح  السياسة والسلطة السياسة مفهوم ي...   0     0      0       0   \n",
       "   الدول الممنوعة  دخول الكويت بسبب انتشار فاير...   0     0      0       0   \n",
       "الموسيقى اللي قبل مايقول عمرو حسن خلينا اصحاب ت...   0     0      0       0   \n",
       " الأفلام تخلينا نضحك ونبكي ونتحمس  مايوصل الحال...   0     0      0       0   \n",
       "\n",
       "                                                    ﺇﻧا  ﺍﻷﻫﻢ  ﺫﻟﻚ  ﻟكي  ﻣﻦ  \n",
       "clean_tweets                                                                 \n",
       " حبر  ورق  الدليل الأخطاء الفادحة  تحدث  غالبية...    0     0    0    0   0  \n",
       " يوجد دمج واضح  السياسة والسلطة السياسة مفهوم ي...    0     0    0    0   0  \n",
       "   الدول الممنوعة  دخول الكويت بسبب انتشار فاير...    0     0    0    0   0  \n",
       "الموسيقى اللي قبل مايقول عمرو حسن خلينا اصحاب ت...    0     0    0    0   0  \n",
       " الأفلام تخلينا نضحك ونبكي ونتحمس  مايوصل الحال...    0     0    0    0   0  \n",
       "\n",
       "[5 rows x 50536 columns]"
      ]
     },
     "execution_count": 10,
     "metadata": {},
     "output_type": "execute_result"
    }
   ],
   "source": [
    "frequency_matrix = pd.DataFrame(doc_array,index=df2['clean_tweets'][:5000],columns=count_vector.get_feature_names())\n",
    "frequency_matrix.head()"
   ]
  },
  {
   "cell_type": "markdown",
   "metadata": {},
   "source": [
    " <center><h1>TF IDF </h1></center>"
   ]
  },
  {
   "cell_type": "code",
   "execution_count": 11,
   "metadata": {},
   "outputs": [
    {
     "data": {
      "text/html": [
       "<div>\n",
       "<style scoped>\n",
       "    .dataframe tbody tr th:only-of-type {\n",
       "        vertical-align: middle;\n",
       "    }\n",
       "\n",
       "    .dataframe tbody tr th {\n",
       "        vertical-align: top;\n",
       "    }\n",
       "\n",
       "    .dataframe thead th {\n",
       "        text-align: right;\n",
       "    }\n",
       "</style>\n",
       "<table border=\"1\" class=\"dataframe\">\n",
       "  <thead>\n",
       "    <tr style=\"text-align: right;\">\n",
       "      <th></th>\n",
       "      <th>آب</th>\n",
       "      <th>آتاه</th>\n",
       "      <th>آثار</th>\n",
       "      <th>آحادشرك</th>\n",
       "      <th>آخر</th>\n",
       "      <th>آخسر</th>\n",
       "      <th>آدم</th>\n",
       "      <th>آدمي</th>\n",
       "      <th>آسر</th>\n",
       "      <th>آسفكلمات</th>\n",
       "      <th>...</th>\n",
       "      <th>ڪما</th>\n",
       "      <th>یا</th>\n",
       "      <th>ㅤㅤ</th>\n",
       "      <th>ﺃﺷﺘﺎﻕ</th>\n",
       "      <th>ﺃﻧﺘﻈﺮﻙ</th>\n",
       "      <th>ﺇﻧا</th>\n",
       "      <th>ﺍﻷﻫﻢ</th>\n",
       "      <th>ﺫﻟﻚ</th>\n",
       "      <th>ﻟكي</th>\n",
       "      <th>ﻣﻦ</th>\n",
       "    </tr>\n",
       "  </thead>\n",
       "  <tbody>\n",
       "    <tr>\n",
       "      <th>0</th>\n",
       "      <td>0.0</td>\n",
       "      <td>0.0</td>\n",
       "      <td>0.0</td>\n",
       "      <td>0.0</td>\n",
       "      <td>0.0</td>\n",
       "      <td>0.0</td>\n",
       "      <td>0.0</td>\n",
       "      <td>0.0</td>\n",
       "      <td>0.0</td>\n",
       "      <td>0.0</td>\n",
       "      <td>...</td>\n",
       "      <td>0.0</td>\n",
       "      <td>0.0</td>\n",
       "      <td>0.0</td>\n",
       "      <td>0.0</td>\n",
       "      <td>0.0</td>\n",
       "      <td>0.0</td>\n",
       "      <td>0.0</td>\n",
       "      <td>0.0</td>\n",
       "      <td>0.0</td>\n",
       "      <td>0.0</td>\n",
       "    </tr>\n",
       "    <tr>\n",
       "      <th>1</th>\n",
       "      <td>0.0</td>\n",
       "      <td>0.0</td>\n",
       "      <td>0.0</td>\n",
       "      <td>0.0</td>\n",
       "      <td>0.0</td>\n",
       "      <td>0.0</td>\n",
       "      <td>0.0</td>\n",
       "      <td>0.0</td>\n",
       "      <td>0.0</td>\n",
       "      <td>0.0</td>\n",
       "      <td>...</td>\n",
       "      <td>0.0</td>\n",
       "      <td>0.0</td>\n",
       "      <td>0.0</td>\n",
       "      <td>0.0</td>\n",
       "      <td>0.0</td>\n",
       "      <td>0.0</td>\n",
       "      <td>0.0</td>\n",
       "      <td>0.0</td>\n",
       "      <td>0.0</td>\n",
       "      <td>0.0</td>\n",
       "    </tr>\n",
       "    <tr>\n",
       "      <th>2</th>\n",
       "      <td>0.0</td>\n",
       "      <td>0.0</td>\n",
       "      <td>0.0</td>\n",
       "      <td>0.0</td>\n",
       "      <td>0.0</td>\n",
       "      <td>0.0</td>\n",
       "      <td>0.0</td>\n",
       "      <td>0.0</td>\n",
       "      <td>0.0</td>\n",
       "      <td>0.0</td>\n",
       "      <td>...</td>\n",
       "      <td>0.0</td>\n",
       "      <td>0.0</td>\n",
       "      <td>0.0</td>\n",
       "      <td>0.0</td>\n",
       "      <td>0.0</td>\n",
       "      <td>0.0</td>\n",
       "      <td>0.0</td>\n",
       "      <td>0.0</td>\n",
       "      <td>0.0</td>\n",
       "      <td>0.0</td>\n",
       "    </tr>\n",
       "    <tr>\n",
       "      <th>3</th>\n",
       "      <td>0.0</td>\n",
       "      <td>0.0</td>\n",
       "      <td>0.0</td>\n",
       "      <td>0.0</td>\n",
       "      <td>0.0</td>\n",
       "      <td>0.0</td>\n",
       "      <td>0.0</td>\n",
       "      <td>0.0</td>\n",
       "      <td>0.0</td>\n",
       "      <td>0.0</td>\n",
       "      <td>...</td>\n",
       "      <td>0.0</td>\n",
       "      <td>0.0</td>\n",
       "      <td>0.0</td>\n",
       "      <td>0.0</td>\n",
       "      <td>0.0</td>\n",
       "      <td>0.0</td>\n",
       "      <td>0.0</td>\n",
       "      <td>0.0</td>\n",
       "      <td>0.0</td>\n",
       "      <td>0.0</td>\n",
       "    </tr>\n",
       "    <tr>\n",
       "      <th>4</th>\n",
       "      <td>0.0</td>\n",
       "      <td>0.0</td>\n",
       "      <td>0.0</td>\n",
       "      <td>0.0</td>\n",
       "      <td>0.0</td>\n",
       "      <td>0.0</td>\n",
       "      <td>0.0</td>\n",
       "      <td>0.0</td>\n",
       "      <td>0.0</td>\n",
       "      <td>0.0</td>\n",
       "      <td>...</td>\n",
       "      <td>0.0</td>\n",
       "      <td>0.0</td>\n",
       "      <td>0.0</td>\n",
       "      <td>0.0</td>\n",
       "      <td>0.0</td>\n",
       "      <td>0.0</td>\n",
       "      <td>0.0</td>\n",
       "      <td>0.0</td>\n",
       "      <td>0.0</td>\n",
       "      <td>0.0</td>\n",
       "    </tr>\n",
       "  </tbody>\n",
       "</table>\n",
       "<p>5 rows × 19711 columns</p>\n",
       "</div>"
      ],
      "text/plain": [
       "    آب  آتاه  آثار  آحادشرك  آخر  آخسر  آدم  آدمي  آسر  آسفكلمات  ...  ڪما  \\\n",
       "0  0.0   0.0   0.0      0.0  0.0   0.0  0.0   0.0  0.0       0.0  ...  0.0   \n",
       "1  0.0   0.0   0.0      0.0  0.0   0.0  0.0   0.0  0.0       0.0  ...  0.0   \n",
       "2  0.0   0.0   0.0      0.0  0.0   0.0  0.0   0.0  0.0       0.0  ...  0.0   \n",
       "3  0.0   0.0   0.0      0.0  0.0   0.0  0.0   0.0  0.0       0.0  ...  0.0   \n",
       "4  0.0   0.0   0.0      0.0  0.0   0.0  0.0   0.0  0.0       0.0  ...  0.0   \n",
       "\n",
       "    یا   ㅤㅤ  ﺃﺷﺘﺎﻕ  ﺃﻧﺘﻈﺮﻙ  ﺇﻧا  ﺍﻷﻫﻢ  ﺫﻟﻚ  ﻟكي   ﻣﻦ  \n",
       "0  0.0  0.0    0.0     0.0  0.0   0.0  0.0  0.0  0.0  \n",
       "1  0.0  0.0    0.0     0.0  0.0   0.0  0.0  0.0  0.0  \n",
       "2  0.0  0.0    0.0     0.0  0.0   0.0  0.0  0.0  0.0  \n",
       "3  0.0  0.0    0.0     0.0  0.0   0.0  0.0  0.0  0.0  \n",
       "4  0.0  0.0    0.0     0.0  0.0   0.0  0.0  0.0  0.0  \n",
       "\n",
       "[5 rows x 19711 columns]"
      ]
     },
     "execution_count": 11,
     "metadata": {},
     "output_type": "execute_result"
    }
   ],
   "source": [
    "\n",
    "# converts the words to a matrix of TF-IDF features\n",
    "from sklearn.feature_extraction.text import TfidfVectorizer\n",
    "tfidf_vectorizer = TfidfVectorizer()\n",
    "X = tfidf_vectorizer.fit_transform(df2['clean_tweets'][:5000]).toarray()\n",
    "df_tf = pd.DataFrame(X, columns=tfidf_vectorizer.get_feature_names())\n",
    "df_tf.head(5)"
   ]
  },
  {
   "cell_type": "markdown",
   "metadata": {},
   "source": [
    "\n",
    "<center><h1>Word Cloud </h1></center>"
   ]
  },
  {
   "cell_type": "code",
   "execution_count": 53,
   "metadata": {},
   "outputs": [
    {
     "data": {
      "image/png": "[encoded data removed]",
      "text/plain": [
       "<Figure size 432x288 with 1 Axes>"
      ]
     },
     "metadata": {
      "needs_background": "light"
     },
     "output_type": "display_data"
    }
   ],
   "source": [
    "text=df2['clean_tweets']\n",
    "\n",
    "text = ' '.join([str(elem) for elem in text])\n",
    "from collections import Counter\n",
    "\n",
    "from wordcloud import WordCloud          # pip install wordcloud\n",
    "import matplotlib.pyplot as plt          \n",
    "# -- Arabic text dependencies\n",
    "from arabic_reshaper import reshape      # pip install arabic-reshaper\n",
    "from bidi.algorithm import get_display   # pip install python-bidi\n",
    "\n",
    "rtl = lambda w: get_display(reshape(f'{w}'))\n",
    "\n",
    "COUNTS = Counter(text.split())\n",
    "counts = {rtl(k):v for k, v in COUNTS.most_common(500)}\n",
    "\n",
    "font_file = './NotoNaskhArabic-Regular.ttf' # download from: https://www.google.com/get/noto\n",
    "wordcloud = WordCloud(font_path=font_file).generate_from_frequencies(counts)\n",
    "plt.imshow(wordcloud, interpolation=\"bilinear\")\n",
    "plt.axis(\"off\")\n",
    "plt.show()"
   ]
  },
  {
   "cell_type": "markdown",
   "metadata": {},
   "source": [
    "  <center><h1>Count Vectorizer </h1></center>\n",
    "\n"
   ]
  },
  {
   "cell_type": "code",
   "execution_count": 21,
   "metadata": {},
   "outputs": [],
   "source": [
    "from sklearn.feature_extraction.text import CountVectorizer\n",
    "vectorizer=CountVectorizer()\n",
    "X=vectorizer.fit_transform(df2['clean_tweets'])"
   ]
  },
  {
   "cell_type": "code",
   "execution_count": null,
   "metadata": {},
   "outputs": [],
   "source": [
    "#print(vectorizer.get_feature_names())"
   ]
  },
  {
   "cell_type": "markdown",
   "metadata": {},
   "source": [
    "<center><h1>Support Vector Machine (SVM)</h1></center>"
   ]
  },
  {
   "cell_type": "code",
   "execution_count": 23,
   "metadata": {},
   "outputs": [],
   "source": [
    "from sklearn.model_selection import train_test_split\n",
    "y=df2['label']\n",
    "X_train,X_test,y_train,y_test=train_test_split(X,y,test_size=0.2)"
   ]
  },
  {
   "cell_type": "code",
   "execution_count": 24,
   "metadata": {},
   "outputs": [
    {
     "data": {
      "text/plain": [
       "SVC()"
      ]
     },
     "execution_count": 24,
     "metadata": {},
     "output_type": "execute_result"
    }
   ],
   "source": [
    "from sklearn.svm import SVC\n",
    "svc = SVC()\n",
    "svc.fit(X_train, y_train)"
   ]
  },
  {
   "cell_type": "code",
   "execution_count": 25,
   "metadata": {},
   "outputs": [
    {
     "name": "stdout",
     "output_type": "stream",
     "text": [
      "[[1316   42   12   98    0]\n",
      " [  23 1376   23   75   10]\n",
      " [   2   48 1329   49    1]\n",
      " [   7   33   31 1446    3]\n",
      " [   1   85   12   53 1332]]\n",
      "              precision    recall  f1-score   support\n",
      "\n",
      "           0       0.98      0.90      0.93      1468\n",
      "           1       0.87      0.91      0.89      1507\n",
      "           2       0.94      0.93      0.94      1429\n",
      "           3       0.84      0.95      0.89      1520\n",
      "           4       0.99      0.90      0.94      1483\n",
      "\n",
      "    accuracy                           0.92      7407\n",
      "   macro avg       0.92      0.92      0.92      7407\n",
      "weighted avg       0.92      0.92      0.92      7407\n",
      "\n"
     ]
    }
   ],
   "source": [
    "y_prediction=svc.predict(X_test)\n",
    "from sklearn.metrics import classification_report,confusion_matrix,accuracy_score\n",
    "cm=confusion_matrix(y_test,y_prediction)\n",
    "print(cm)\n",
    "print(classification_report(y_test,y_prediction))"
   ]
  },
  {
   "cell_type": "markdown",
   "metadata": {},
   "source": [
    " <center><h1>Saving and Using The Model SVM </h1> </center>"
   ]
  },
  {
   "cell_type": "markdown",
   "metadata": {},
   "source": [
    "<h2>Support Vector Machine  with Accuracy 92 %</h2>"
   ]
  },
  {
   "cell_type": "code",
   "execution_count": 26,
   "metadata": {},
   "outputs": [],
   "source": [
    "from joblib import dump, load\n",
    "import pickle\n",
    "pickle.dump(svc, open('svm.pkl','wb'))\n",
    "model_arab_svm = pickle.load(open('svm.pkl','rb'))"
   ]
  },
  {
   "cell_type": "code",
   "execution_count": 27,
   "metadata": {},
   "outputs": [
    {
     "name": "stdout",
     "output_type": "stream",
     "text": [
      "Religion\n"
     ]
    }
   ],
   "source": [
    "import numpy as np \n",
    "model_arab_svm = load('svm.pkl') \n",
    "message='يعد أساس الإسلام هو الإيمان بالإله الواحد'\n",
    "\n",
    "data=[message]\n",
    "vect = vectorizer.transform(data)\n",
    "my_prediction = model_arab_svm.predict(vect)\n",
    "if (my_prediction[0]==0):\n",
    "    print('Sportif')\n",
    "elif ((my_prediction[0]==1)):\n",
    "    print('Politic')\n",
    "else:\n",
    "    print('Religion')"
   ]
  },
  {
   "cell_type": "markdown",
   "metadata": {},
   "source": [
    "\n",
    "<center><h1>Naive Bayes (NB)</h1></center>\n"
   ]
  },
  {
   "cell_type": "code",
   "execution_count": 28,
   "metadata": {},
   "outputs": [],
   "source": [
    "from sklearn.naive_bayes import MultinomialNB\n",
    "NB_classifier=MultinomialNB()\n",
    "NB_classifier.fit(X_train,y_train)\n",
    "y_predict=NB_classifier.predict(X_test)"
   ]
  },
  {
   "cell_type": "code",
   "execution_count": 29,
   "metadata": {},
   "outputs": [
    {
     "name": "stdout",
     "output_type": "stream",
     "text": [
      "[[1358   33   20   45   12]\n",
      " [  38 1362   31   51   25]\n",
      " [  12   64 1304   42    7]\n",
      " [  19   34   28 1429   10]\n",
      " [  19   91   18   51 1304]]\n",
      "********************\n",
      "              precision    recall  f1-score   support\n",
      "\n",
      "           0       0.94      0.93      0.93      1468\n",
      "           1       0.86      0.90      0.88      1507\n",
      "           2       0.93      0.91      0.92      1429\n",
      "           3       0.88      0.94      0.91      1520\n",
      "           4       0.96      0.88      0.92      1483\n",
      "\n",
      "    accuracy                           0.91      7407\n",
      "   macro avg       0.91      0.91      0.91      7407\n",
      "weighted avg       0.91      0.91      0.91      7407\n",
      "\n"
     ]
    }
   ],
   "source": [
    "from sklearn.metrics import classification_report,confusion_matrix,accuracy_score\n",
    "cm=confusion_matrix(y_test,y_predict)\n",
    "print(cm)\n",
    "print('********************')\n",
    "print(classification_report(y_test,y_predict))"
   ]
  },
  {
   "cell_type": "markdown",
   "metadata": {},
   "source": [
    "<center><h1>Saving and Using The Model Naive Bayes </h1></center>"
   ]
  },
  {
   "cell_type": "markdown",
   "metadata": {},
   "source": [
    "<h2>Naive Bayes with accuracy 91% </h2>"
   ]
  },
  {
   "cell_type": "code",
   "execution_count": 58,
   "metadata": {},
   "outputs": [],
   "source": [
    "from joblib import dump, load\n",
    "import pickle\n",
    "pickle.dump(NB_classifier, open('nb.pkl','wb'))\n",
    "model_arab_nb = pickle.load(open('nb.pkl','rb'))"
   ]
  },
  {
   "cell_type": "code",
   "execution_count": 59,
   "metadata": {},
   "outputs": [
    {
     "name": "stdout",
     "output_type": "stream",
     "text": [
      "Religion\n"
     ]
    }
   ],
   "source": [
    "import numpy as np \n",
    "model_arab_nb = load('nb.pkl') \n",
    "message='الحمد لله على نعمة الإسلام'\n",
    "data=[message]\n",
    "vect = vectorizer.transform(data)\n",
    "my_prediction = model_arab_nb.predict(vect)\n",
    "if (my_prediction[0]==0):\n",
    "    print('Sportif')\n",
    "elif ((my_prediction[0]==1)):\n",
    "    print('Politic')\n",
    "elif ((my_prediction[0]==2)):\n",
    "    print('Religion')\n",
    "elif ((my_prediction[0]==3)):\n",
    "    print('Art')\n",
    "else:\n",
    "    print('Economy')\n",
    "    \n"
   ]
  },
  {
   "cell_type": "code",
   "execution_count": 60,
   "metadata": {},
   "outputs": [
    {
     "name": "stdout",
     "output_type": "stream",
     "text": [
      "Politic\n"
     ]
    }
   ],
   "source": [
    "import numpy as np \n",
    "model_arab_nb = load('nb.pkl') \n",
    "message='في السياسة ليس هناك عدو دائم او صديق دائم هناك مصالح دائمة'\n",
    "data=[message]\n",
    "vect = vectorizer.transform(data)\n",
    "my_prediction = model_arab_nb.predict(vect)\n",
    "if (my_prediction[0]==0):\n",
    "    print('Sportif')\n",
    "elif ((my_prediction[0]==1)):\n",
    "    print('Politic')\n",
    "elif ((my_prediction[0]==2)):\n",
    "    print('Religion')\n",
    "elif ((my_prediction[0]==3)):\n",
    "    print('Art')\n",
    "else:\n",
    "    print('Economy')"
   ]
  },
  {
   "cell_type": "code",
   "execution_count": 61,
   "metadata": {},
   "outputs": [
    {
     "name": "stdout",
     "output_type": "stream",
     "text": [
      "Sportif\n"
     ]
    }
   ],
   "source": [
    "import numpy as np \n",
    "model_arab_nb = load('nb.pkl') \n",
    "message='ريال مدريد اقوى فريق في العالم'\n",
    "data=[message]\n",
    "vect = vectorizer.transform(data)\n",
    "my_prediction = model_arab_nb.predict(vect)\n",
    "if (my_prediction[0]==0):\n",
    "    print('Sportif')\n",
    "elif ((my_prediction[0]==1)):\n",
    "    print('Politic')\n",
    "elif ((my_prediction[0]==2)):\n",
    "    print('Religion')\n",
    "elif ((my_prediction[0]==3)):\n",
    "    print('Art')\n",
    "else:\n",
    "    print('Economy')"
   ]
  },
  {
   "cell_type": "code",
   "execution_count": 62,
   "metadata": {},
   "outputs": [
    {
     "name": "stdout",
     "output_type": "stream",
     "text": [
      "Art\n"
     ]
    }
   ],
   "source": [
    "import numpy as np \n",
    "model_arab_nb = load('nb.pkl') \n",
    "message='يبدأ الفن حيث تنتهى الرغبة'\n",
    "data=[message]\n",
    "vect = vectorizer.transform(data)\n",
    "my_prediction = model_arab_nb.predict(vect)\n",
    "if (my_prediction[0]==0):\n",
    "    print('Sportif')\n",
    "elif ((my_prediction[0]==1)):\n",
    "    print('Politic')\n",
    "elif ((my_prediction[0]==2)):\n",
    "    print('Religion')\n",
    "elif ((my_prediction[0]==3)):\n",
    "    print('Art')\n",
    "else:\n",
    "    print('Economy')"
   ]
  },
  {
   "cell_type": "code",
   "execution_count": 63,
   "metadata": {},
   "outputs": [
    {
     "name": "stdout",
     "output_type": "stream",
     "text": [
      "Economy\n"
     ]
    }
   ],
   "source": [
    "import numpy as np \n",
    "model_arab_nb = load('nb.pkl') \n",
    "message='الأماني رءوس مال المفاليس'\n",
    "data=[message]\n",
    "vect = vectorizer.transform(data)\n",
    "my_prediction = model_arab_nb.predict(vect)\n",
    "if (my_prediction[0]==0):\n",
    "    print('Sportif')\n",
    "elif ((my_prediction[0]==1)):\n",
    "    print('Politic')\n",
    "elif ((my_prediction[0]==2)):\n",
    "    print('Religion')\n",
    "elif ((my_prediction[0]==3)):\n",
    "    print('Art')\n",
    "else:\n",
    "    print('Economy')\n"
   ]
  },
  {
   "cell_type": "markdown",
   "metadata": {},
   "source": [
    "\n",
    " <center><h1> Long Short Term Memory (LSTM)</h1></center>"
   ]
  },
  {
   "cell_type": "markdown",
   "metadata": {},
   "source": [
    "<h1>Data Preparation and Pad text Data</h1>"
   ]
  },
  {
   "cell_type": "code",
   "execution_count": 31,
   "metadata": {},
   "outputs": [
    {
     "name": "stdout",
     "output_type": "stream",
     "text": [
      "Training Data: 29628\n",
      "Test Data: 7407\n"
     ]
    }
   ],
   "source": [
    "X=df2['clean_tweets'].values\n",
    "y=df2['label'].values\n",
    "X_train,X_test,y_train,y_test=train_test_split(X,y,test_size=0.2)\n",
    "print('Training Data:', X_train.shape[0])\n",
    "print('Test Data:', X_test.shape[0])"
   ]
  },
  {
   "cell_type": "code",
   "execution_count": 33,
   "metadata": {},
   "outputs": [],
   "source": [
    "from keras.preprocessing.text import Tokenizer\n",
    "from tensorflow.keras.preprocessing import text,sequence\n",
    "max_features=10000\n",
    "#which is set to 10000. This is because when you convert words to numbers using the bag of words approach, \n",
    "#all the unique words in all the documents are converted into features. \n",
    "#All the documents can contain tens of thousands of unique words.\n",
    "#But the words that have a very low frequency of occurrence are unusually not a good parameter for classifying documents. \n",
    "#Therefore we set the max_features parameter to 10000, which means that we want to use 10000 most occurring words as features for training our classifier.\n",
    "max_text_length=20\n",
    "\n",
    "\n",
    "x_tokenizer=Tokenizer(max_features)"
   ]
  },
  {
   "cell_type": "code",
   "execution_count": 34,
   "metadata": {},
   "outputs": [
    {
     "name": "stdout",
     "output_type": "stream",
     "text": [
      "Found 63892 unique tokens.\n"
     ]
    }
   ],
   "source": [
    "x_tokenizer.fit_on_texts(X)\n",
    "word_index = x_tokenizer.word_index\n",
    "print('Found %s unique tokens.' % len(word_index))"
   ]
  },
  {
   "cell_type": "code",
   "execution_count": 69,
   "metadata": {},
   "outputs": [
    {
     "name": "stdout",
     "output_type": "stream",
     "text": [
      "Top 5 most common words are: [('و', 6311), ('الله', 3205), ('الرياضة', 2377), ('الحكومة', 2330), ('ان', 2080)]\n"
     ]
    }
   ],
   "source": [
    "import collections\n",
    "print('Top 5 most common words are:', collections.Counter(x_tokenizer.word_counts).most_common(5))"
   ]
  },
  {
   "cell_type": "code",
   "execution_count": 35,
   "metadata": {},
   "outputs": [],
   "source": [
    "\n",
    "#text to numbers\n",
    "#return each text by sequence of integers ,each integer be the index of token in dictionary\n",
    "x_train=x_tokenizer.texts_to_sequences(X_train) \n",
    "x_train_val=sequence.pad_sequences(x_train,padding='post',maxlen=max_text_length)\n",
    "x_test=x_tokenizer.texts_to_sequences(X_test) \n",
    "x_test_val=sequence.pad_sequences(x_test,padding='post',maxlen=max_text_length)"
   ]
  },
  {
   "cell_type": "code",
   "execution_count": 107,
   "metadata": {},
   "outputs": [
    {
     "data": {
      "text/plain": [
       "'يارب هب  قلبا  يتكاسل  صلاتك اللهم ايقظني  احب الاوقات اليك ربي اجعلني مقيم الصلاة  ذريتي'"
      ]
     },
     "execution_count": 107,
     "metadata": {},
     "output_type": "execute_result"
    }
   ],
   "source": [
    "X_train[6]"
   ]
  },
  {
   "cell_type": "code",
   "execution_count": 108,
   "metadata": {},
   "outputs": [
    {
     "data": {
      "text/plain": [
       "array([9986, 2209,   18, 5219, 4237,    0,    0,    0,    0,    0,    0,\n",
       "          0,    0,    0,    0,    0,    0,    0,    0,    0])"
      ]
     },
     "execution_count": 108,
     "metadata": {},
     "output_type": "execute_result"
    }
   ],
   "source": [
    "x_train_val[32]"
   ]
  },
  {
   "cell_type": "code",
   "execution_count": 36,
   "metadata": {},
   "outputs": [
    {
     "name": "stdout",
     "output_type": "stream",
     "text": [
      "WARNING:tensorflow:From C:\\Users\\admin\\Anaconda3\\lib\\site-packages\\tensorflow\\python\\keras\\initializers.py:119: calling RandomUniform.__init__ (from tensorflow.python.ops.init_ops) with dtype is deprecated and will be removed in a future version.\n",
      "Instructions for updating:\n",
      "Call initializer instance with the dtype argument instead of passing it to the constructor\n",
      "WARNING:tensorflow:From C:\\Users\\admin\\Anaconda3\\lib\\site-packages\\tensorflow\\python\\ops\\init_ops.py:1251: calling VarianceScaling.__init__ (from tensorflow.python.ops.init_ops) with dtype is deprecated and will be removed in a future version.\n",
      "Instructions for updating:\n",
      "Call initializer instance with the dtype argument instead of passing it to the constructor\n",
      "WARNING:tensorflow:Large dropout rate: 0.8 (>0.5). In TensorFlow 2.x, dropout() uses dropout rate instead of keep_prob. Please ensure that this is intended.\n",
      "Model: \"sequential\"\n",
      "_________________________________________________________________\n",
      "Layer (type)                 Output Shape              Param #   \n",
      "=================================================================\n",
      "embedding (Embedding)        (None, 20, 100)           1000000   \n",
      "_________________________________________________________________\n",
      "lstm (LSTM)                  (None, 64)                42240     \n",
      "_________________________________________________________________\n",
      "dropout (Dropout)            (None, 64)                0         \n",
      "_________________________________________________________________\n",
      "dense (Dense)                (None, 5)                 325       \n",
      "=================================================================\n",
      "Total params: 1,042,565\n",
      "Trainable params: 1,042,565\n",
      "Non-trainable params: 0\n",
      "_________________________________________________________________\n"
     ]
    }
   ],
   "source": [
    "from tensorflow.keras import layers\n",
    "from tensorflow.keras.layers import Input, LSTM,Embedding\n",
    "from tensorflow.keras.layers import GlobalMaxPool1D\n",
    "from tensorflow.keras.models import Model, Sequential\n",
    "from tensorflow.keras.layers import Dense, GlobalAveragePooling2D ,Dropout\n",
    "maxlen=max_text_length\n",
    "embedding_dim=100\n",
    "model=Sequential()\n",
    "model.add(layers.Embedding(input_dim=max_features,\n",
    "         output_dim=embedding_dim,\n",
    "         input_length=maxlen))\n",
    "\n",
    "model.add(layers.LSTM(64))\n",
    "model.add(layers.Dropout(0.8))\n",
    "\n",
    "\n",
    "model.add(layers.Dense(5, activation='softmax'))\n",
    "model.compile(loss='sparse_categorical_crossentropy', optimizer='adam', metrics=['accuracy'])\n",
    "model.summary()"
   ]
  },
  {
   "cell_type": "code",
   "execution_count": 110,
   "metadata": {},
   "outputs": [
    {
     "name": "stdout",
     "output_type": "stream",
     "text": [
      "Train on 16944 samples, validate on 4236 samples\n",
      "WARNING:tensorflow:From C:\\Users\\admin\\Anaconda3\\lib\\site-packages\\tensorflow\\python\\ops\\math_grad.py:1250: add_dispatch_support.<locals>.wrapper (from tensorflow.python.ops.array_ops) is deprecated and will be removed in a future version.\n",
      "Instructions for updating:\n",
      "Use tf.where in 2.0, which has the same broadcast rule as np.where\n",
      "Epoch 1/3\n",
      "16944/16944 [==============================] - 31s 2ms/sample - loss: 0.7512 - acc: 0.7022 - val_loss: 0.2928 - val_acc: 0.8999\n",
      "Epoch 2/3\n",
      "16944/16944 [==============================] - 26s 2ms/sample - loss: 0.2573 - acc: 0.9226 - val_loss: 0.2623 - val_acc: 0.9115\n",
      "Epoch 3/3\n",
      "16944/16944 [==============================] - 28s 2ms/sample - loss: 0.1702 - acc: 0.9525 - val_loss: 0.2821 - val_acc: 0.9124\n"
     ]
    }
   ],
   "source": [
    "history=model.fit(x_train_val,y_train, epochs=3, batch_size=32, verbose=1, validation_split=0.2)"
   ]
  },
  {
   "cell_type": "code",
   "execution_count": 111,
   "metadata": {},
   "outputs": [
    {
     "name": "stdout",
     "output_type": "stream",
     "text": [
      "5296/5296 [==============================] - 1s 179us/sample - loss: 0.2743 - acc: 0.9186\n",
      "Score: 0.2742508703123868\n",
      "Accuracy: 0.91861784\n"
     ]
    }
   ],
   "source": [
    "scores,accuracy = model.evaluate(x_test_val, y_test)\n",
    "print('Score:',scores)\n",
    "print('Accuracy:',accuracy)"
   ]
  },
  {
   "cell_type": "code",
   "execution_count": 117,
   "metadata": {},
   "outputs": [
    {
     "data": {
      "image/png": "[encoded data removed]",
      "text/plain": [
       "<Figure size 432x288 with 1 Axes>"
      ]
     },
     "metadata": {
      "needs_background": "light"
     },
     "output_type": "display_data"
    },
    {
     "data": {
      "image/png": "[encoded data removed]",
      "text/plain": [
       "<Figure size 432x288 with 1 Axes>"
      ]
     },
     "metadata": {
      "needs_background": "light"
     },
     "output_type": "display_data"
    }
   ],
   "source": [
    "import matplotlib.pyplot as plt\n",
    "\n",
    "acc = history.history['acc']\n",
    "val_acc = history.history['val_acc']\n",
    "loss = history.history['loss']\n",
    "val_loss = history.history['val_loss']\n",
    "\n",
    "epochs = range(1, len(acc) + 1)\n",
    "\n",
    "plt.plot(epochs, acc, 'bo', label='Training acc')\n",
    "plt.plot(epochs, val_acc, 'b', label='Validation acc')\n",
    "plt.title('Training and validation accuracy')\n",
    "plt.legend()\n",
    "\n",
    "plt.figure()\n",
    "\n",
    "plt.plot(epochs, loss, 'bo', label='Training loss')\n",
    "plt.plot(epochs, val_loss, 'b', label='Validation loss')\n",
    "plt.title('Training and validation loss')\n",
    "plt.legend()\n",
    "\n",
    "plt.show()"
   ]
  },
  {
   "cell_type": "markdown",
   "metadata": {},
   "source": [
    "<center><h1> Saving and Using The Model LSTM</h1></center>"
   ]
  },
  {
   "cell_type": "markdown",
   "metadata": {},
   "source": [
    "<h2> Long Short Term Memory with accuracy 91% </h2>"
   ]
  },
  {
   "cell_type": "code",
   "execution_count": 43,
   "metadata": {},
   "outputs": [
    {
     "name": "stdout",
     "output_type": "stream",
     "text": [
      "Sport\n"
     ]
    }
   ],
   "source": [
    "text = [\"المنتخب المغربي يفوز على نضيره السنغالي\"]\n",
    "seq = x_tokenizer.texts_to_sequences(text)\n",
    "padded = sequence.pad_sequences(seq,padding='post',maxlen=max_text_length)\n",
    "pred = model.predict(padded)\n",
    "labels = ['Sport', 'Politic', 'Religion','Art','Economy']\n",
    "print( labels[np.argmax(pred)])"
   ]
  },
  {
   "cell_type": "code",
   "execution_count": 54,
   "metadata": {},
   "outputs": [
    {
     "name": "stdout",
     "output_type": "stream",
     "text": [
      "Art\n"
     ]
    }
   ],
   "source": [
    "text = [\"بيكاسو مبدع في لوحاته\"]\n",
    "seq = x_tokenizer.texts_to_sequences(text)\n",
    "padded = sequence.pad_sequences(seq,padding='post',maxlen=max_text_length)\n",
    "pred = model.predict(padded)\n",
    "labels = ['Sport', 'Politic', 'Religion','Art','Economy']\n",
    "print( labels[np.argmax(pred)])"
   ]
  },
  {
   "cell_type": "code",
   "execution_count": 58,
   "metadata": {},
   "outputs": [
    {
     "name": "stdout",
     "output_type": "stream",
     "text": [
      "Politic\n"
     ]
    }
   ],
   "source": [
    "text = [\"في السياسة ليس هناك عدو دائم او صديق دائم هناك مصالح دائمة\"]\n",
    "seq = x_tokenizer.texts_to_sequences(text)\n",
    "padded = sequence.pad_sequences(seq,padding='post',maxlen=max_text_length)\n",
    "pred = model.predict(padded)\n",
    "labels = ['Sport', 'Politic', 'Religion','Art','Economy']\n",
    "print( labels[np.argmax(pred)])\n"
   ]
  },
  {
   "cell_type": "code",
   "execution_count": 60,
   "metadata": {},
   "outputs": [],
   "source": [
    "from keras.models import load_model\n",
    "model.save('ltsm.h5') \n"
   ]
  },
  {
   "cell_type": "markdown",
   "metadata": {},
   "source": [
    "<h3><U>REALIZED BY:</U> </h3> <H5> ELHARCHAOUI ZAKARIA  </H5>"
   ]
  }
 ],
 "metadata": {
  "kernelspec": {
   "display_name": "Python 3",
   "language": "python",
   "name": "python3"
  },
  "language_info": {
   "codemirror_mode": {
    "name": "ipython",
    "version": 3
   },
   "file_extension": ".py",
   "mimetype": "text/x-python",
   "name": "python",
   "nbconvert_exporter": "python",
   "pygments_lexer": "ipython3",
   "version": "3.7.4"
  }
 },
 "nbformat": 4,
 "nbformat_minor": 4
}
